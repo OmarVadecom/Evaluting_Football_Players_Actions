{
 "cells": [
  {
   "cell_type": "code",
   "execution_count": 1,
   "metadata": {},
   "outputs": [],
   "source": [
    "import warnings\n",
    "from io import BytesIO\n",
    "from pathlib import Path\n",
    "from urllib.parse import urlparse\n",
    "from urllib.request import urlopen, urlretrieve\n",
    "from zipfile import ZipFile, is_zipfile\n",
    "\n",
    "import pandas as pd\n",
    "import socceraction.vaep.features as features\n",
    "import socceraction.vaep.labels as labels\n",
    "from sklearn.metrics import brier_score_loss, roc_auc_score\n",
    "from socceraction.spadl.wyscout import convert_to_spadl\n",
    "from socceraction.vaep.formula import value\n",
    "from tqdm.notebook import tqdm\n",
    "from xgboost import XGBClassifier"
   ]
  },
  {
   "cell_type": "code",
   "execution_count": 2,
   "metadata": {},
   "outputs": [],
   "source": [
    "warnings.filterwarnings('ignore', category=pd.io.pytables.PerformanceWarning)"
   ]
  },
  {
   "cell_type": "code",
   "execution_count": 3,
   "metadata": {},
   "outputs": [],
   "source": [
    "data_files = {\n",
    "    'events': 'https://ndownloader.figshare.com/files/14464685',  # ZIP file containing one JSON file for each competition\n",
    "    'matches': 'https://ndownloader.figshare.com/files/14464622',  # ZIP file containing one JSON file for each competition\n",
    "    'players': 'https://ndownloader.figshare.com/files/15073721',  # JSON file\n",
    "    'teams': 'https://ndownloader.figshare.com/files/15073697'  # JSON file\n",
    "}"
   ]
  },
  {
   "cell_type": "code",
   "execution_count": 4,
   "metadata": {},
   "outputs": [
    {
     "data": {
      "application/vnd.jupyter.widget-view+json": {
       "model_id": "ff834b18a3d3426b8748febc11a5436f",
       "version_major": 2,
       "version_minor": 0
      },
      "text/plain": [
       "HBox(children=(IntProgress(value=0, max=4), HTML(value='')))"
      ]
     },
     "metadata": {},
     "output_type": "display_data"
    },
    {
     "name": "stdout",
     "output_type": "stream",
     "text": [
      "\n"
     ]
    }
   ],
   "source": [
    "#Download data and extract it\n",
    "for url in tqdm(data_files.values()):\n",
    "    url_s3 = urlopen(url).geturl()\n",
    "    path = Path(urlparse(url_s3).path)\n",
    "    file_name = path.name\n",
    "    file_local, _ = urlretrieve(url_s3, file_name)\n",
    "    if is_zipfile(file_local):\n",
    "        with ZipFile(file_local) as zip_file:\n",
    "            zip_file.extractall()"
   ]
  },
  {
   "cell_type": "markdown",
   "metadata": {},
   "source": [
    "## Preprocess the Wyscout data"
   ]
  },
  {
   "cell_type": "markdown",
   "metadata": {},
   "source": [
    "The `read_json_file` function reads and returns the content of a given JSON file. The function handles the encoding of special characters (e.g., accents in names of players and teams) that the `pd.read_json` function cannot handle properly."
   ]
  },
  {
   "cell_type": "code",
   "execution_count": 5,
   "metadata": {},
   "outputs": [],
   "source": [
    "def read_json_file(filename):\n",
    "    with open(filename, 'rb') as json_file:\n",
    "        return BytesIO(json_file.read()).getvalue().decode('unicode_escape')"
   ]
  },
  {
   "cell_type": "markdown",
   "metadata": {},
   "source": [
    "### Teams and Players (json to h5)"
   ]
  },
  {
   "cell_type": "code",
   "execution_count": 12,
   "metadata": {},
   "outputs": [],
   "source": [
    "def teams_players_j_h5(result_file,folder_path=''):\n",
    "    json_teams = read_json_file(folder_path+'teams.json')\n",
    "    json_players = read_json_file(folder_path+'players.json')\n",
    "\n",
    "    df_teams = pd.read_json(json_teams)\n",
    "    df_players = pd.read_json(json_players)\n",
    "\n",
    "    df_teams.to_hdf(folder_path+result_file, key='teams', mode='w')\n",
    "    df_players.to_hdf(folder_path+result_file, key='players', mode='a')\n",
    "    print('Number of Teams : ',len(df_teams))\n",
    "    print('Number of Players : ',len(df_players))\n",
    "    print(\"teams_players_j_h5 done it's work\")"
   ]
  },
  {
   "cell_type": "markdown",
   "metadata": {},
   "source": [
    "Matches of a specific competitions from json to h5"
   ]
  },
  {
   "cell_type": "code",
   "execution_count": 17,
   "metadata": {},
   "outputs": [],
   "source": [
    "def matches_j_h5(result_file,competitions,folder_path=''):\n",
    "    dfs_matches = []\n",
    "    for competition in competitions:\n",
    "        competition_name = competition.replace(' ', '_')\n",
    "        file_matches = f'matches_{competition_name}.json'\n",
    "        json_matches = read_json_file(file_matches)\n",
    "        df_matches = pd.read_json(json_matches)\n",
    "        dfs_matches.append(df_matches)\n",
    "    df_matches = pd.concat(dfs_matches)\n",
    "    df_matches.to_hdf(folder_path+result_file, key='matches', mode='a')\n",
    "    print('Number of Matches : ',len(df_matches))\n",
    "    print(\"matches_j_h5 done it's work\")"
   ]
  },
  {
   "cell_type": "markdown",
   "metadata": {},
   "source": [
    "### Events of a specific competitions - assign events of matches to  `events/match_<match-id>` in h5"
   ]
  },
  {
   "cell_type": "code",
   "execution_count": 18,
   "metadata": {},
   "outputs": [],
   "source": [
    "def events_j_h5(result_file,competitions,folder_path=''):\n",
    "    for competition in competitions:\n",
    "        competition_name = competition.replace(' ', '_')\n",
    "        file_events = folder_path+f'events_{competition_name}.json'\n",
    "        json_events = read_json_file(file_events)\n",
    "        df_events = pd.read_json(json_events)\n",
    "        df_events_matches = df_events.groupby('matchId', as_index=False)\n",
    "        for match_id, df_events_match in df_events_matches:\n",
    "            df_events_match.to_hdf(folder_path+result_file, key=f'events/match_{match_id}', mode='a')\n",
    "        print('Number of Events : ',len(df_events))\n",
    "   \n",
    "    print(\"events_j_h5 done it's work\")  "
   ]
  },
  {
   "cell_type": "markdown",
   "metadata": {},
   "source": [
    "Competitions"
   ]
  },
  {
   "cell_type": "code",
   "execution_count": 140,
   "metadata": {},
   "outputs": [],
   "source": [
    "competitions = [\n",
    "#     'England',\n",
    "#     'France',\n",
    "#     'Germany',\n",
    "#     'Italy',\n",
    "#     'Spain',\n",
    "    'European Championship',\n",
    "    #'World Cup'\n",
    "]"
   ]
  },
  {
   "cell_type": "markdown",
   "metadata": {},
   "source": [
    "## Convert the data to the SPADL representation"
   ]
  },
  {
   "cell_type": "code",
   "execution_count": 141,
   "metadata": {},
   "outputs": [
    {
     "name": "stdout",
     "output_type": "stream",
     "text": [
      "Number of Teams :  142\n",
      "Number of Players :  3603\n",
      "teams_players_j_h5 done it's work\n",
      "Number of Matches :  51\n",
      "matches_j_h5 done it's work\n",
      "Number of Events :  78140\n",
      "events_j_h5 done it's work\n",
      "...Inserting actiontypes\n",
      "...Inserting bodyparts\n",
      "...Inserting results\n",
      "...Converting games\n",
      "...Converting players\n",
      "...Converting teams\n",
      "...Generating player_games\n"
     ]
    },
    {
     "name": "stderr",
     "output_type": "stream",
     "text": [
      "100%|████████████████████████████████████████████████████████████████████████████████| 51/51 [00:03<00:00, 15.68game/s]\n"
     ]
    },
    {
     "name": "stdout",
     "output_type": "stream",
     "text": [
      "...Converting events to actions\n"
     ]
    },
    {
     "name": "stderr",
     "output_type": "stream",
     "text": [
      "100%|████████████████████████████████████████████████████████████████████████████████| 51/51 [00:23<00:00,  2.15game/s]\n"
     ]
    },
    {
     "name": "stdout",
     "output_type": "stream",
     "text": [
      "convert_h5_spadl done it's work\n"
     ]
    }
   ],
   "source": [
    "def convert_h5_spadl(result_file,competitions,folder_path=''):\n",
    "    teams_players_j_h5(result_file)\n",
    "    matches_j_h5(result_file,competitions)\n",
    "    events_j_h5(result_file,competitions)\n",
    "    convert_to_spadl(folder_path+result_file, folder_path+ 'spadl_'+result_file)\n",
    "    print(\"convert_h5_spadl done it's work\")  \n",
    "\n",
    "# result file is for each competition and the same name with pre 'spadl_' is the output file \n",
    "current_competition = competitions[0].replace(' ', '_')\n",
    "result_file = current_competition+'.h5'\n",
    "result_file_spadl = 'spadl_'+result_file\n",
    "\n",
    "convert_h5_spadl(result_file,competitions)    "
   ]
  },
  {
   "cell_type": "markdown",
   "metadata": {},
   "source": [
    "حاول تفهم الجزء بتاع التحويل ده بشكل افضل \n"
   ]
  },
  {
   "cell_type": "markdown",
   "metadata": {},
   "source": [
    "# Value game states"
   ]
  },
  {
   "cell_type": "markdown",
   "metadata": {},
   "source": [
    "This section generates features and labels for the game states, trains a predictive machine learning model for each label, and values the game states by applying the trained machine learning models.\n",
    "\n",
    "1. Generate the features to describe the game states;\n",
    "2. Generate the labels that capture the value of the game states;\n",
    "3. Compose a dataset by selecting a set of features and the labels of the game states;\n",
    "4. Train predictive machine learning models using the dataset;\n",
    "5. Value the game states using the trained predictive machine learning model.\n"
   ]
  },
  {
   "cell_type": "code",
   "execution_count": 142,
   "metadata": {},
   "outputs": [
    {
     "name": "stdout",
     "output_type": "stream",
     "text": [
      "read_spadl_keys done it's work\n"
     ]
    }
   ],
   "source": [
    "def read_spadl_keys(result_file=result_file,folder_path=''):\n",
    "    df_games = pd.read_hdf(folder_path+result_file, key='games')\n",
    "    df_actiontypes = pd.read_hdf(folder_path+result_file, key='actiontypes')\n",
    "    df_bodyparts = pd.read_hdf(folder_path+result_file, key='bodyparts')\n",
    "    df_results = pd.read_hdf(folder_path+result_file, key='results')\n",
    "    print(\"read_spadl_keys done it's work\")\n",
    "    return df_games,df_actiontypes,df_bodyparts,df_results\n",
    "df_games,df_actiontypes,df_bodyparts,df_results = read_spadl_keys(result_file_spadl)"
   ]
  },
  {
   "cell_type": "code",
   "execution_count": 143,
   "metadata": {},
   "outputs": [],
   "source": [
    "nb_prev_actions = 3"
   ]
  },
  {
   "cell_type": "markdown",
   "metadata": {},
   "source": [
    "## Generate game state features"
   ]
  },
  {
   "cell_type": "code",
   "execution_count": 144,
   "metadata": {},
   "outputs": [],
   "source": [
    "functions_features = [\n",
    "    features.actiontype_onehot,\n",
    "    features.bodypart_onehot,\n",
    "    features.result_onehot,\n",
    "    features.goalscore,\n",
    "    features.startlocation,\n",
    "    features.endlocation,\n",
    "    features.movement,\n",
    "    features.space_delta,\n",
    "    features.startpolar,\n",
    "    features.endpolar,\n",
    "    features.team,\n",
    "    features.time_delta\n",
    "]"
   ]
  },
  {
   "cell_type": "markdown",
   "metadata": {},
   "source": [
    "The following cell generates game states from consecutive actions in each game and computes the features for each game state.\n",
    "\n",
    "1. Obtain the actions for the game (i.e., `df_actions`) by looping through the games;\n",
    "2. Construct game states of a given length from the actions (i.e., `dfs_gamestates`);\n",
    "3. Compute the features for the constructed game states (i.e., `df_features`) by looping through the list of *feature generators*."
   ]
  },
  {
   "cell_type": "code",
   "execution_count": 145,
   "metadata": {},
   "outputs": [
    {
     "data": {
      "application/vnd.jupyter.widget-view+json": {
       "model_id": "095dd6a63b8a44ef938d8d4ac904793b",
       "version_major": 2,
       "version_minor": 0
      },
      "text/plain": [
       "HBox(children=(IntProgress(value=0, max=51), HTML(value='')))"
      ]
     },
     "metadata": {},
     "output_type": "display_data"
    },
    {
     "name": "stdout",
     "output_type": "stream",
     "text": [
      "\n",
      "features is generated for competition : European_Championship\n"
     ]
    }
   ],
   "source": [
    "def generate_features(df_games=df_games,df_actiontypes=df_actiontypes,df_bodyparts=df_bodyparts,df_results=df_results,\n",
    "                    folder_path='',result_file_spadl=result_file_spadl,current_competition=current_competition):\n",
    "    for _, game in tqdm(df_games.iterrows(), total=len(df_games)):\n",
    "        game_id = game['game_id']\n",
    "        df_actions = pd.read_hdf(folder_path+result_file_spadl, key=f'actions/game_{game_id}')\n",
    "        df_actions = (df_actions\n",
    "            .merge(df_actiontypes, how='left')\n",
    "            .merge(df_results, how='left')\n",
    "            .merge(df_bodyparts, how='left')\n",
    "            .reset_index(drop=True)\n",
    "        )\n",
    "        \n",
    "        dfs_gamestates = features.gamestates(df_actions, nb_prev_actions=nb_prev_actions)\n",
    "        dfs_gamestates = features.play_left_to_right(dfs_gamestates, game['home_team_id'])\n",
    "        \n",
    "        df_features = pd.concat([function(dfs_gamestates) for function in functions_features], axis=1)\n",
    "        df_features.to_hdf(folder_path+current_competition+'_features.h5', key=f'game_{game_id}')\n",
    "    print('features is generated for competition : '+current_competition )\n",
    "generate_features()"
   ]
  },
  {
   "cell_type": "markdown",
   "metadata": {},
   "source": [
    "## Generate game state labels"
   ]
  },
  {
   "cell_type": "code",
   "execution_count": 146,
   "metadata": {},
   "outputs": [],
   "source": [
    "functions_labels = [\n",
    "    labels.scores,\n",
    "    labels.concedes\n",
    "]"
   ]
  },
  {
   "cell_type": "markdown",
   "metadata": {},
   "source": [
    "The following cell computes the labels for each action:"
   ]
  },
  {
   "cell_type": "code",
   "execution_count": 147,
   "metadata": {},
   "outputs": [
    {
     "data": {
      "application/vnd.jupyter.widget-view+json": {
       "model_id": "9f3bc06b4a684023b0c8ad75c9ae7faa",
       "version_major": 2,
       "version_minor": 0
      },
      "text/plain": [
       "HBox(children=(IntProgress(value=0, max=51), HTML(value='')))"
      ]
     },
     "metadata": {},
     "output_type": "display_data"
    },
    {
     "name": "stdout",
     "output_type": "stream",
     "text": [
      "\n",
      "labels file is generated for competition : European_Championship\n"
     ]
    }
   ],
   "source": [
    "def generate_labels(df_games=df_games,df_actiontypes=df_actiontypes,df_bodyparts=df_bodyparts,df_results=df_results,\n",
    "                    folder_path='',result_file_spadl=result_file_spadl,current_competition=current_competition):\n",
    "        for _, game in tqdm(df_games.iterrows(), total=len(df_games)):\n",
    "            game_id = game['game_id']\n",
    "            df_actions = pd.read_hdf(folder_path+result_file_spadl, key=f'actions/game_{game_id}')\n",
    "            df_actions = (df_actions\n",
    "                .merge(df_actiontypes, how='left')\n",
    "                .merge(df_results, how='left')\n",
    "                .merge(df_bodyparts, how='left')\n",
    "                .reset_index(drop=True)\n",
    "            )\n",
    "            \n",
    "            df_labels = pd.concat([function(df_actions) for function in functions_labels], axis=1)\n",
    "            df_labels.to_hdf(folder_path+current_competition+'_labels.h5', key=f'game_{game_id}')\n",
    "        print('labels file is generated for competition : '+current_competition )\n",
    "\n",
    "generate_labels()"
   ]
  },
  {
   "cell_type": "markdown",
   "metadata": {},
   "source": [
    "## Generate dataset"
   ]
  },
  {
   "cell_type": "markdown",
   "metadata": {},
   "source": [
    "The following cell generates a list of names for the features to be included in the dataset."
   ]
  },
  {
   "cell_type": "code",
   "execution_count": 148,
   "metadata": {},
   "outputs": [],
   "source": [
    "columns_features = features.feature_column_names(functions_features, nb_prev_actions=nb_prev_actions)"
   ]
  },
  {
   "cell_type": "markdown",
   "metadata": {},
   "source": [
    "The following cell obtains the relevant features for each game and stores them in the `df_features` `DataFrame` object."
   ]
  },
  {
   "cell_type": "code",
   "execution_count": 149,
   "metadata": {},
   "outputs": [
    {
     "data": {
      "application/vnd.jupyter.widget-view+json": {
       "model_id": "ed1237cd3131415aae77ba59ecd671e9",
       "version_major": 2,
       "version_minor": 0
      },
      "text/plain": [
       "HBox(children=(IntProgress(value=0, max=51), HTML(value='')))"
      ]
     },
     "metadata": {},
     "output_type": "display_data"
    },
    {
     "name": "stdout",
     "output_type": "stream",
     "text": [
      "\n"
     ]
    },
    {
     "data": {
      "application/vnd.jupyter.widget-view+json": {
       "model_id": "f519e958c24e4c2a90beb7a9dda3c5ed",
       "version_major": 2,
       "version_minor": 0
      },
      "text/plain": [
       "HBox(children=(IntProgress(value=0, max=51), HTML(value='')))"
      ]
     },
     "metadata": {},
     "output_type": "display_data"
    },
    {
     "name": "stdout",
     "output_type": "stream",
     "text": [
      "\n",
      "dataset is generated for competition : European_Championship\n"
     ]
    }
   ],
   "source": [
    "columns_labels = [\n",
    "    'scores',\n",
    "    'concedes'\n",
    "]\n",
    "def generate_dataset(folder_path='',result_file_spadl=result_file_spadl,current_competition=current_competition):\n",
    "    dfs_features = []\n",
    "    dfs_labels = []\n",
    "    for _, game in tqdm(df_games.iterrows(), total=len(df_games)):\n",
    "        game_id = game['game_id']\n",
    "        df_features = pd.read_hdf(folder_path+current_competition+'_features.h5', key=f'game_{game_id}')\n",
    "        dfs_features.append(df_features[columns_features])\n",
    "    df_features = pd.concat(dfs_features).reset_index(drop=True)\n",
    "\n",
    "    for _, game in tqdm(df_games.iterrows(), total=len(df_games)):\n",
    "        game_id = game['game_id']\n",
    "        df_labels = pd.read_hdf(folder_path+current_competition+'_labels.h5', key=f'game_{game_id}')\n",
    "        dfs_labels.append(df_labels[columns_labels])\n",
    "    df_labels = pd.concat(dfs_labels).reset_index(drop=True)\n",
    "    print('dataset is generated for competition : '+current_competition )\n",
    "    return df_features,df_labels\n",
    "df_features,df_labels=generate_dataset()"
   ]
  },
  {
   "cell_type": "code",
   "execution_count": 150,
   "metadata": {},
   "outputs": [
    {
     "data": {
      "text/html": [
       "<div>\n",
       "<style scoped>\n",
       "    .dataframe tbody tr th:only-of-type {\n",
       "        vertical-align: middle;\n",
       "    }\n",
       "\n",
       "    .dataframe tbody tr th {\n",
       "        vertical-align: top;\n",
       "    }\n",
       "\n",
       "    .dataframe thead th {\n",
       "        text-align: right;\n",
       "    }\n",
       "</style>\n",
       "<table border=\"1\" class=\"dataframe\">\n",
       "  <thead>\n",
       "    <tr style=\"text-align: right;\">\n",
       "      <th></th>\n",
       "      <th>type_pass_a0</th>\n",
       "      <th>type_cross_a0</th>\n",
       "      <th>type_throw_in_a0</th>\n",
       "      <th>type_freekick_crossed_a0</th>\n",
       "      <th>type_freekick_short_a0</th>\n",
       "      <th>type_corner_crossed_a0</th>\n",
       "      <th>type_corner_short_a0</th>\n",
       "      <th>type_take_on_a0</th>\n",
       "      <th>type_foul_a0</th>\n",
       "      <th>type_tackle_a0</th>\n",
       "      <th>...</th>\n",
       "      <th>end_dist_to_goal_a0</th>\n",
       "      <th>end_angle_to_goal_a0</th>\n",
       "      <th>end_dist_to_goal_a1</th>\n",
       "      <th>end_angle_to_goal_a1</th>\n",
       "      <th>end_dist_to_goal_a2</th>\n",
       "      <th>end_angle_to_goal_a2</th>\n",
       "      <th>team_1</th>\n",
       "      <th>team_2</th>\n",
       "      <th>time_delta_1</th>\n",
       "      <th>time_delta_2</th>\n",
       "    </tr>\n",
       "  </thead>\n",
       "  <tbody>\n",
       "    <tr>\n",
       "      <th>0</th>\n",
       "      <td>True</td>\n",
       "      <td>False</td>\n",
       "      <td>False</td>\n",
       "      <td>False</td>\n",
       "      <td>False</td>\n",
       "      <td>False</td>\n",
       "      <td>False</td>\n",
       "      <td>False</td>\n",
       "      <td>False</td>\n",
       "      <td>False</td>\n",
       "      <td>...</td>\n",
       "      <td>80.158369</td>\n",
       "      <td>0.187731</td>\n",
       "      <td>80.158369</td>\n",
       "      <td>0.187731</td>\n",
       "      <td>80.158369</td>\n",
       "      <td>0.187731</td>\n",
       "      <td>True</td>\n",
       "      <td>True</td>\n",
       "      <td>0.000000</td>\n",
       "      <td>0.000000</td>\n",
       "    </tr>\n",
       "    <tr>\n",
       "      <th>1</th>\n",
       "      <td>True</td>\n",
       "      <td>False</td>\n",
       "      <td>False</td>\n",
       "      <td>False</td>\n",
       "      <td>False</td>\n",
       "      <td>False</td>\n",
       "      <td>False</td>\n",
       "      <td>False</td>\n",
       "      <td>False</td>\n",
       "      <td>False</td>\n",
       "      <td>...</td>\n",
       "      <td>78.371487</td>\n",
       "      <td>0.354440</td>\n",
       "      <td>80.158369</td>\n",
       "      <td>0.187731</td>\n",
       "      <td>80.158369</td>\n",
       "      <td>0.187731</td>\n",
       "      <td>True</td>\n",
       "      <td>True</td>\n",
       "      <td>2.191167</td>\n",
       "      <td>2.191167</td>\n",
       "    </tr>\n",
       "    <tr>\n",
       "      <th>2</th>\n",
       "      <td>True</td>\n",
       "      <td>False</td>\n",
       "      <td>False</td>\n",
       "      <td>False</td>\n",
       "      <td>False</td>\n",
       "      <td>False</td>\n",
       "      <td>False</td>\n",
       "      <td>False</td>\n",
       "      <td>False</td>\n",
       "      <td>False</td>\n",
       "      <td>...</td>\n",
       "      <td>71.690861</td>\n",
       "      <td>0.258985</td>\n",
       "      <td>78.371487</td>\n",
       "      <td>0.354440</td>\n",
       "      <td>80.158369</td>\n",
       "      <td>0.187731</td>\n",
       "      <td>True</td>\n",
       "      <td>True</td>\n",
       "      <td>2.557667</td>\n",
       "      <td>4.748834</td>\n",
       "    </tr>\n",
       "    <tr>\n",
       "      <th>3</th>\n",
       "      <td>True</td>\n",
       "      <td>False</td>\n",
       "      <td>False</td>\n",
       "      <td>False</td>\n",
       "      <td>False</td>\n",
       "      <td>False</td>\n",
       "      <td>False</td>\n",
       "      <td>False</td>\n",
       "      <td>False</td>\n",
       "      <td>False</td>\n",
       "      <td>...</td>\n",
       "      <td>85.321753</td>\n",
       "      <td>0.176247</td>\n",
       "      <td>71.690861</td>\n",
       "      <td>0.258985</td>\n",
       "      <td>78.371487</td>\n",
       "      <td>0.354440</td>\n",
       "      <td>True</td>\n",
       "      <td>True</td>\n",
       "      <td>1.044167</td>\n",
       "      <td>3.601834</td>\n",
       "    </tr>\n",
       "    <tr>\n",
       "      <th>4</th>\n",
       "      <td>True</td>\n",
       "      <td>False</td>\n",
       "      <td>False</td>\n",
       "      <td>False</td>\n",
       "      <td>False</td>\n",
       "      <td>False</td>\n",
       "      <td>False</td>\n",
       "      <td>False</td>\n",
       "      <td>False</td>\n",
       "      <td>False</td>\n",
       "      <td>...</td>\n",
       "      <td>79.592694</td>\n",
       "      <td>0.357874</td>\n",
       "      <td>85.321753</td>\n",
       "      <td>0.176247</td>\n",
       "      <td>71.690861</td>\n",
       "      <td>0.258985</td>\n",
       "      <td>True</td>\n",
       "      <td>True</td>\n",
       "      <td>3.048458</td>\n",
       "      <td>4.092625</td>\n",
       "    </tr>\n",
       "    <tr>\n",
       "      <th>5</th>\n",
       "      <td>False</td>\n",
       "      <td>False</td>\n",
       "      <td>True</td>\n",
       "      <td>False</td>\n",
       "      <td>False</td>\n",
       "      <td>False</td>\n",
       "      <td>False</td>\n",
       "      <td>False</td>\n",
       "      <td>False</td>\n",
       "      <td>False</td>\n",
       "      <td>...</td>\n",
       "      <td>23.519770</td>\n",
       "      <td>0.895657</td>\n",
       "      <td>41.285553</td>\n",
       "      <td>0.741367</td>\n",
       "      <td>25.783747</td>\n",
       "      <td>0.618987</td>\n",
       "      <td>False</td>\n",
       "      <td>False</td>\n",
       "      <td>13.767090</td>\n",
       "      <td>16.815548</td>\n",
       "    </tr>\n",
       "    <tr>\n",
       "      <th>6</th>\n",
       "      <td>True</td>\n",
       "      <td>False</td>\n",
       "      <td>False</td>\n",
       "      <td>False</td>\n",
       "      <td>False</td>\n",
       "      <td>False</td>\n",
       "      <td>False</td>\n",
       "      <td>False</td>\n",
       "      <td>False</td>\n",
       "      <td>False</td>\n",
       "      <td>...</td>\n",
       "      <td>31.518001</td>\n",
       "      <td>1.085580</td>\n",
       "      <td>23.519770</td>\n",
       "      <td>0.895657</td>\n",
       "      <td>41.285553</td>\n",
       "      <td>0.741367</td>\n",
       "      <td>True</td>\n",
       "      <td>False</td>\n",
       "      <td>1.193161</td>\n",
       "      <td>14.960251</td>\n",
       "    </tr>\n",
       "    <tr>\n",
       "      <th>7</th>\n",
       "      <td>False</td>\n",
       "      <td>False</td>\n",
       "      <td>False</td>\n",
       "      <td>False</td>\n",
       "      <td>False</td>\n",
       "      <td>False</td>\n",
       "      <td>False</td>\n",
       "      <td>False</td>\n",
       "      <td>False</td>\n",
       "      <td>False</td>\n",
       "      <td>...</td>\n",
       "      <td>89.647658</td>\n",
       "      <td>0.388999</td>\n",
       "      <td>94.506002</td>\n",
       "      <td>0.299464</td>\n",
       "      <td>92.147597</td>\n",
       "      <td>0.200588</td>\n",
       "      <td>False</td>\n",
       "      <td>False</td>\n",
       "      <td>3.420165</td>\n",
       "      <td>4.613326</td>\n",
       "    </tr>\n",
       "    <tr>\n",
       "      <th>8</th>\n",
       "      <td>False</td>\n",
       "      <td>False</td>\n",
       "      <td>True</td>\n",
       "      <td>False</td>\n",
       "      <td>False</td>\n",
       "      <td>False</td>\n",
       "      <td>False</td>\n",
       "      <td>False</td>\n",
       "      <td>False</td>\n",
       "      <td>False</td>\n",
       "      <td>...</td>\n",
       "      <td>25.144733</td>\n",
       "      <td>1.045928</td>\n",
       "      <td>40.524098</td>\n",
       "      <td>0.995456</td>\n",
       "      <td>31.518001</td>\n",
       "      <td>1.085580</td>\n",
       "      <td>False</td>\n",
       "      <td>True</td>\n",
       "      <td>10.269111</td>\n",
       "      <td>13.689276</td>\n",
       "    </tr>\n",
       "    <tr>\n",
       "      <th>9</th>\n",
       "      <td>True</td>\n",
       "      <td>False</td>\n",
       "      <td>False</td>\n",
       "      <td>False</td>\n",
       "      <td>False</td>\n",
       "      <td>False</td>\n",
       "      <td>False</td>\n",
       "      <td>False</td>\n",
       "      <td>False</td>\n",
       "      <td>False</td>\n",
       "      <td>...</td>\n",
       "      <td>36.732596</td>\n",
       "      <td>0.890698</td>\n",
       "      <td>25.144733</td>\n",
       "      <td>1.045928</td>\n",
       "      <td>40.524098</td>\n",
       "      <td>0.995456</td>\n",
       "      <td>True</td>\n",
       "      <td>False</td>\n",
       "      <td>1.401809</td>\n",
       "      <td>11.670920</td>\n",
       "    </tr>\n",
       "  </tbody>\n",
       "</table>\n",
       "<p>10 rows × 142 columns</p>\n",
       "</div>"
      ],
      "text/plain": [
       "   type_pass_a0  type_cross_a0  type_throw_in_a0  type_freekick_crossed_a0  \\\n",
       "0          True          False             False                     False   \n",
       "1          True          False             False                     False   \n",
       "2          True          False             False                     False   \n",
       "3          True          False             False                     False   \n",
       "4          True          False             False                     False   \n",
       "5         False          False              True                     False   \n",
       "6          True          False             False                     False   \n",
       "7         False          False             False                     False   \n",
       "8         False          False              True                     False   \n",
       "9          True          False             False                     False   \n",
       "\n",
       "   type_freekick_short_a0  type_corner_crossed_a0  type_corner_short_a0  \\\n",
       "0                   False                   False                 False   \n",
       "1                   False                   False                 False   \n",
       "2                   False                   False                 False   \n",
       "3                   False                   False                 False   \n",
       "4                   False                   False                 False   \n",
       "5                   False                   False                 False   \n",
       "6                   False                   False                 False   \n",
       "7                   False                   False                 False   \n",
       "8                   False                   False                 False   \n",
       "9                   False                   False                 False   \n",
       "\n",
       "   type_take_on_a0  type_foul_a0  type_tackle_a0  ...  end_dist_to_goal_a0  \\\n",
       "0            False         False           False  ...            80.158369   \n",
       "1            False         False           False  ...            78.371487   \n",
       "2            False         False           False  ...            71.690861   \n",
       "3            False         False           False  ...            85.321753   \n",
       "4            False         False           False  ...            79.592694   \n",
       "5            False         False           False  ...            23.519770   \n",
       "6            False         False           False  ...            31.518001   \n",
       "7            False         False           False  ...            89.647658   \n",
       "8            False         False           False  ...            25.144733   \n",
       "9            False         False           False  ...            36.732596   \n",
       "\n",
       "   end_angle_to_goal_a0  end_dist_to_goal_a1  end_angle_to_goal_a1  \\\n",
       "0              0.187731            80.158369              0.187731   \n",
       "1              0.354440            80.158369              0.187731   \n",
       "2              0.258985            78.371487              0.354440   \n",
       "3              0.176247            71.690861              0.258985   \n",
       "4              0.357874            85.321753              0.176247   \n",
       "5              0.895657            41.285553              0.741367   \n",
       "6              1.085580            23.519770              0.895657   \n",
       "7              0.388999            94.506002              0.299464   \n",
       "8              1.045928            40.524098              0.995456   \n",
       "9              0.890698            25.144733              1.045928   \n",
       "\n",
       "   end_dist_to_goal_a2  end_angle_to_goal_a2  team_1  team_2  time_delta_1  \\\n",
       "0            80.158369              0.187731    True    True      0.000000   \n",
       "1            80.158369              0.187731    True    True      2.191167   \n",
       "2            80.158369              0.187731    True    True      2.557667   \n",
       "3            78.371487              0.354440    True    True      1.044167   \n",
       "4            71.690861              0.258985    True    True      3.048458   \n",
       "5            25.783747              0.618987   False   False     13.767090   \n",
       "6            41.285553              0.741367    True   False      1.193161   \n",
       "7            92.147597              0.200588   False   False      3.420165   \n",
       "8            31.518001              1.085580   False    True     10.269111   \n",
       "9            40.524098              0.995456    True   False      1.401809   \n",
       "\n",
       "   time_delta_2  \n",
       "0      0.000000  \n",
       "1      2.191167  \n",
       "2      4.748834  \n",
       "3      3.601834  \n",
       "4      4.092625  \n",
       "5     16.815548  \n",
       "6     14.960251  \n",
       "7      4.613326  \n",
       "8     13.689276  \n",
       "9     11.670920  \n",
       "\n",
       "[10 rows x 142 columns]"
      ]
     },
     "execution_count": 150,
     "metadata": {},
     "output_type": "execute_result"
    }
   ],
   "source": [
    "df_features.head(10)"
   ]
  },
  {
   "cell_type": "code",
   "execution_count": 151,
   "metadata": {},
   "outputs": [],
   "source": [
    "# df_features.to_csv('main.csv', index=False)"
   ]
  },
  {
   "cell_type": "code",
   "execution_count": 152,
   "metadata": {},
   "outputs": [
    {
     "data": {
      "text/html": [
       "<div>\n",
       "<style scoped>\n",
       "    .dataframe tbody tr th:only-of-type {\n",
       "        vertical-align: middle;\n",
       "    }\n",
       "\n",
       "    .dataframe tbody tr th {\n",
       "        vertical-align: top;\n",
       "    }\n",
       "\n",
       "    .dataframe thead th {\n",
       "        text-align: right;\n",
       "    }\n",
       "</style>\n",
       "<table border=\"1\" class=\"dataframe\">\n",
       "  <thead>\n",
       "    <tr style=\"text-align: right;\">\n",
       "      <th></th>\n",
       "      <th>scores</th>\n",
       "      <th>concedes</th>\n",
       "    </tr>\n",
       "  </thead>\n",
       "  <tbody>\n",
       "    <tr>\n",
       "      <th>0</th>\n",
       "      <td>False</td>\n",
       "      <td>False</td>\n",
       "    </tr>\n",
       "    <tr>\n",
       "      <th>1</th>\n",
       "      <td>False</td>\n",
       "      <td>False</td>\n",
       "    </tr>\n",
       "    <tr>\n",
       "      <th>2</th>\n",
       "      <td>False</td>\n",
       "      <td>False</td>\n",
       "    </tr>\n",
       "    <tr>\n",
       "      <th>3</th>\n",
       "      <td>False</td>\n",
       "      <td>False</td>\n",
       "    </tr>\n",
       "    <tr>\n",
       "      <th>4</th>\n",
       "      <td>False</td>\n",
       "      <td>False</td>\n",
       "    </tr>\n",
       "    <tr>\n",
       "      <th>5</th>\n",
       "      <td>False</td>\n",
       "      <td>False</td>\n",
       "    </tr>\n",
       "    <tr>\n",
       "      <th>6</th>\n",
       "      <td>False</td>\n",
       "      <td>False</td>\n",
       "    </tr>\n",
       "    <tr>\n",
       "      <th>7</th>\n",
       "      <td>False</td>\n",
       "      <td>False</td>\n",
       "    </tr>\n",
       "    <tr>\n",
       "      <th>8</th>\n",
       "      <td>False</td>\n",
       "      <td>False</td>\n",
       "    </tr>\n",
       "    <tr>\n",
       "      <th>9</th>\n",
       "      <td>False</td>\n",
       "      <td>False</td>\n",
       "    </tr>\n",
       "  </tbody>\n",
       "</table>\n",
       "</div>"
      ],
      "text/plain": [
       "   scores  concedes\n",
       "0   False     False\n",
       "1   False     False\n",
       "2   False     False\n",
       "3   False     False\n",
       "4   False     False\n",
       "5   False     False\n",
       "6   False     False\n",
       "7   False     False\n",
       "8   False     False\n",
       "9   False     False"
      ]
     },
     "execution_count": 152,
     "metadata": {},
     "output_type": "execute_result"
    }
   ],
   "source": [
    "df_labels.head(10)"
   ]
  },
  {
   "cell_type": "markdown",
   "metadata": {},
   "source": [
    "## Train classifiers"
   ]
  },
  {
   "cell_type": "markdown",
   "metadata": {},
   "source": [
    "The following cell trains an XGBoost classifier for each label using the computed features. For each label:\n",
    "1. Construct an XGBoost classifier with default hyperparameters;\n",
    "2. Train the classifier using the computed features and the label;\n",
    "3. Store the trained classifier in the `models` `dict`."
   ]
  },
  {
   "cell_type": "code",
   "execution_count": 153,
   "metadata": {},
   "outputs": [
    {
     "name": "stdout",
     "output_type": "stream",
     "text": [
      "train_model is done!\n",
      "Wall time: 31.2 s\n"
     ]
    }
   ],
   "source": [
    "%%time\n",
    "def train_model(df_features=df_features,df_labels=df_labels,column_labels=['scores','concedes']):\n",
    "    models = {}\n",
    "    for column_labels in columns_labels:\n",
    "        model = XGBClassifier(\n",
    "            eval_metric='logloss',\n",
    "            use_label_encoder=False\n",
    "        )\n",
    "        model.fit(df_features, df_labels[column_labels])\n",
    "        models[column_labels] = model\n",
    "    print('train_model is done!')\n",
    "    return models\n",
    "models = train_model()"
   ]
  },
  {
   "cell_type": "markdown",
   "metadata": {},
   "source": [
    "## Estimate probabilities"
   ]
  },
  {
   "cell_type": "markdown",
   "metadata": {},
   "source": [
    "The following cell predicts the labels for the game states using the trained XGBoost classifier. For each label:\n",
    "1. Retrieve the model for the label;\n",
    "2. Estimate the probabilities of the labels being `False` and `True` given the computed features;\n",
    "3. Keep the probabilities for the `True` label;\n",
    "4. Store the probabilities as a `Series` object in the `dfs_predictions` `dict`."
   ]
  },
  {
   "cell_type": "code",
   "execution_count": 154,
   "metadata": {},
   "outputs": [
    {
     "name": "stdout",
     "output_type": "stream",
     "text": [
      "predict_model is done!\n"
     ]
    }
   ],
   "source": [
    "def predict_model(models=models, columns_label=columns_labels, df_features=df_features):\n",
    "    dfs_predictions = {}\n",
    "    for column_labels in columns_labels:\n",
    "        model = models[column_labels]\n",
    "        probabilities = model.predict_proba(df_features)\n",
    "        predictions = probabilities[:, 1]\n",
    "        dfs_predictions[column_labels] = pd.Series(predictions)\n",
    "    df_predictions = pd.concat(dfs_predictions, axis=1)\n",
    "    print('predict_model is done!')\n",
    "    return df_predictions\n",
    "\n",
    "\n",
    "df_predictions = predict_model()\n"
   ]
  },
  {
   "cell_type": "code",
   "execution_count": 155,
   "metadata": {},
   "outputs": [
    {
     "data": {
      "text/html": [
       "<div>\n",
       "<style scoped>\n",
       "    .dataframe tbody tr th:only-of-type {\n",
       "        vertical-align: middle;\n",
       "    }\n",
       "\n",
       "    .dataframe tbody tr th {\n",
       "        vertical-align: top;\n",
       "    }\n",
       "\n",
       "    .dataframe thead th {\n",
       "        text-align: right;\n",
       "    }\n",
       "</style>\n",
       "<table border=\"1\" class=\"dataframe\">\n",
       "  <thead>\n",
       "    <tr style=\"text-align: right;\">\n",
       "      <th></th>\n",
       "      <th>scores</th>\n",
       "      <th>concedes</th>\n",
       "    </tr>\n",
       "  </thead>\n",
       "  <tbody>\n",
       "    <tr>\n",
       "      <th>0</th>\n",
       "      <td>0.000169</td>\n",
       "      <td>0.000454</td>\n",
       "    </tr>\n",
       "    <tr>\n",
       "      <th>1</th>\n",
       "      <td>0.000540</td>\n",
       "      <td>0.000671</td>\n",
       "    </tr>\n",
       "    <tr>\n",
       "      <th>2</th>\n",
       "      <td>0.000685</td>\n",
       "      <td>0.001587</td>\n",
       "    </tr>\n",
       "    <tr>\n",
       "      <th>3</th>\n",
       "      <td>0.002187</td>\n",
       "      <td>0.000697</td>\n",
       "    </tr>\n",
       "    <tr>\n",
       "      <th>4</th>\n",
       "      <td>0.002197</td>\n",
       "      <td>0.000340</td>\n",
       "    </tr>\n",
       "    <tr>\n",
       "      <th>5</th>\n",
       "      <td>0.004104</td>\n",
       "      <td>0.000030</td>\n",
       "    </tr>\n",
       "    <tr>\n",
       "      <th>6</th>\n",
       "      <td>0.002794</td>\n",
       "      <td>0.000035</td>\n",
       "    </tr>\n",
       "    <tr>\n",
       "      <th>7</th>\n",
       "      <td>0.000152</td>\n",
       "      <td>0.004720</td>\n",
       "    </tr>\n",
       "    <tr>\n",
       "      <th>8</th>\n",
       "      <td>0.002308</td>\n",
       "      <td>0.000099</td>\n",
       "    </tr>\n",
       "    <tr>\n",
       "      <th>9</th>\n",
       "      <td>0.001126</td>\n",
       "      <td>0.000048</td>\n",
       "    </tr>\n",
       "  </tbody>\n",
       "</table>\n",
       "</div>"
      ],
      "text/plain": [
       "     scores  concedes\n",
       "0  0.000169  0.000454\n",
       "1  0.000540  0.000671\n",
       "2  0.000685  0.001587\n",
       "3  0.002187  0.000697\n",
       "4  0.002197  0.000340\n",
       "5  0.004104  0.000030\n",
       "6  0.002794  0.000035\n",
       "7  0.000152  0.004720\n",
       "8  0.002308  0.000099\n",
       "9  0.001126  0.000048"
      ]
     },
     "execution_count": 155,
     "metadata": {},
     "output_type": "execute_result"
    }
   ],
   "source": [
    "df_predictions.head(10)"
   ]
  },
  {
   "cell_type": "markdown",
   "metadata": {},
   "source": [
    "Store the predictions per game."
   ]
  },
  {
   "cell_type": "code",
   "execution_count": 156,
   "metadata": {},
   "outputs": [
    {
     "data": {
      "application/vnd.jupyter.widget-view+json": {
       "model_id": "091589ada13644f098d04dd39b3b66d2",
       "version_major": 2,
       "version_minor": 0
      },
      "text/plain": [
       "HBox(children=(IntProgress(value=0, max=51), HTML(value='')))"
      ]
     },
     "metadata": {},
     "output_type": "display_data"
    },
    {
     "name": "stdout",
     "output_type": "stream",
     "text": [
      "\n"
     ]
    },
    {
     "data": {
      "application/vnd.jupyter.widget-view+json": {
       "model_id": "84183353486b479290d465fe2bb1be6c",
       "version_major": 2,
       "version_minor": 0
      },
      "text/plain": [
       "HBox(children=(IntProgress(value=0, max=51), HTML(value='')))"
      ]
     },
     "metadata": {},
     "output_type": "display_data"
    },
    {
     "name": "stdout",
     "output_type": "stream",
     "text": [
      "\n"
     ]
    }
   ],
   "source": [
    "def store_predictions_per_game(df_predictions=df_predictions,folder_path='',result_file_spadl=result_file_spadl,current_competition=current_competition):\n",
    "    dfs_game_ids = []\n",
    "    for _, game in tqdm(df_games.iterrows(), total=len(df_games)):\n",
    "        game_id = game['game_id']\n",
    "        df_actions = pd.read_hdf(folder_path+result_file_spadl, key=f'actions/game_{game_id}')\n",
    "        dfs_game_ids.append(df_actions['game_id'])\n",
    "    df_game_ids = pd.concat(dfs_game_ids, axis=0).astype('int').reset_index(drop=True)\n",
    "    df_predictions = pd.concat([df_predictions, df_game_ids], axis=1)\n",
    "    df_predictions_per_game = df_predictions.groupby('game_id')\n",
    "    for game_id, df_predictions in tqdm(df_predictions_per_game):\n",
    "        df_predictions = df_predictions.reset_index(drop=True)\n",
    "        df_predictions[columns_labels].to_hdf(folder_path+current_competition+'_predictions.h5', key=f'game_{game_id}')\n",
    "    return df_predictions\n",
    "df_predictions = store_predictions_per_game()"
   ]
  },
  {
   "cell_type": "code",
   "execution_count": 157,
   "metadata": {},
   "outputs": [
    {
     "data": {
      "text/html": [
       "<div>\n",
       "<style scoped>\n",
       "    .dataframe tbody tr th:only-of-type {\n",
       "        vertical-align: middle;\n",
       "    }\n",
       "\n",
       "    .dataframe tbody tr th {\n",
       "        vertical-align: top;\n",
       "    }\n",
       "\n",
       "    .dataframe thead th {\n",
       "        text-align: right;\n",
       "    }\n",
       "</style>\n",
       "<table border=\"1\" class=\"dataframe\">\n",
       "  <thead>\n",
       "    <tr style=\"text-align: right;\">\n",
       "      <th></th>\n",
       "      <th>scores</th>\n",
       "      <th>concedes</th>\n",
       "      <th>game_id</th>\n",
       "    </tr>\n",
       "  </thead>\n",
       "  <tbody>\n",
       "    <tr>\n",
       "      <th>0</th>\n",
       "      <td>0.000169</td>\n",
       "      <td>0.000454</td>\n",
       "      <td>1694440</td>\n",
       "    </tr>\n",
       "    <tr>\n",
       "      <th>1</th>\n",
       "      <td>0.000540</td>\n",
       "      <td>0.000671</td>\n",
       "      <td>1694440</td>\n",
       "    </tr>\n",
       "    <tr>\n",
       "      <th>2</th>\n",
       "      <td>0.000685</td>\n",
       "      <td>0.001587</td>\n",
       "      <td>1694440</td>\n",
       "    </tr>\n",
       "    <tr>\n",
       "      <th>3</th>\n",
       "      <td>0.002187</td>\n",
       "      <td>0.000697</td>\n",
       "      <td>1694440</td>\n",
       "    </tr>\n",
       "    <tr>\n",
       "      <th>4</th>\n",
       "      <td>0.002197</td>\n",
       "      <td>0.000340</td>\n",
       "      <td>1694440</td>\n",
       "    </tr>\n",
       "    <tr>\n",
       "      <th>5</th>\n",
       "      <td>0.004104</td>\n",
       "      <td>0.000030</td>\n",
       "      <td>1694440</td>\n",
       "    </tr>\n",
       "    <tr>\n",
       "      <th>6</th>\n",
       "      <td>0.002794</td>\n",
       "      <td>0.000035</td>\n",
       "      <td>1694440</td>\n",
       "    </tr>\n",
       "    <tr>\n",
       "      <th>7</th>\n",
       "      <td>0.000152</td>\n",
       "      <td>0.004720</td>\n",
       "      <td>1694440</td>\n",
       "    </tr>\n",
       "    <tr>\n",
       "      <th>8</th>\n",
       "      <td>0.002308</td>\n",
       "      <td>0.000099</td>\n",
       "      <td>1694440</td>\n",
       "    </tr>\n",
       "    <tr>\n",
       "      <th>9</th>\n",
       "      <td>0.001126</td>\n",
       "      <td>0.000048</td>\n",
       "      <td>1694440</td>\n",
       "    </tr>\n",
       "  </tbody>\n",
       "</table>\n",
       "</div>"
      ],
      "text/plain": [
       "     scores  concedes  game_id\n",
       "0  0.000169  0.000454  1694440\n",
       "1  0.000540  0.000671  1694440\n",
       "2  0.000685  0.001587  1694440\n",
       "3  0.002187  0.000697  1694440\n",
       "4  0.002197  0.000340  1694440\n",
       "5  0.004104  0.000030  1694440\n",
       "6  0.002794  0.000035  1694440\n",
       "7  0.000152  0.004720  1694440\n",
       "8  0.002308  0.000099  1694440\n",
       "9  0.001126  0.000048  1694440"
      ]
     },
     "execution_count": 157,
     "metadata": {},
     "output_type": "execute_result"
    }
   ],
   "source": [
    "df_predictions.head(10)"
   ]
  },
  {
   "cell_type": "markdown",
   "metadata": {},
   "source": [
    "# Value on-the-ball actions"
   ]
  },
  {
   "cell_type": "code",
   "execution_count": 158,
   "metadata": {},
   "outputs": [
    {
     "data": {
      "application/vnd.jupyter.widget-view+json": {
       "model_id": "f7fc8a4a465247ecbb5efc618cbbd96e",
       "version_major": 2,
       "version_minor": 0
      },
      "text/plain": [
       "HBox(children=(IntProgress(value=0, max=51), HTML(value='')))"
      ]
     },
     "metadata": {},
     "output_type": "display_data"
    },
    {
     "name": "stdout",
     "output_type": "stream",
     "text": [
      "\n"
     ]
    }
   ],
   "source": [
    "def calculate_values(df_predictions=df_predictions,folder_path='',result_file_spadl=result_file_spadl,current_competition=current_competition):\n",
    "    df_players = pd.read_hdf(folder_path+result_file_spadl, key='players')\n",
    "    df_teams = pd.read_hdf(folder_path+result_file_spadl, key='teams')\n",
    "    dfs_values = []\n",
    "    for _, game in tqdm(df_games.iterrows(), total=len(df_games)):\n",
    "        game_id = game['game_id']\n",
    "        df_actions = pd.read_hdf(folder_path+result_file_spadl, key=f'actions/game_{game_id}')\n",
    "        df_actions = (df_actions\n",
    "            .merge(df_actiontypes, how='left')\n",
    "            .merge(df_results, how='left')\n",
    "            .merge(df_bodyparts, how='left')\n",
    "            .merge(df_players, how='left')\n",
    "            .merge(df_teams, how='left')\n",
    "            .reset_index(drop=True)\n",
    "        )\n",
    "        \n",
    "        df_predictions = pd.read_hdf(folder_path+current_competition+'_predictions.h5', key=f'game_{game_id}')\n",
    "        df_values = value(df_actions, df_predictions['scores'], df_predictions['concedes'])\n",
    "        \n",
    "        df_all = pd.concat([df_actions, df_predictions, df_values], axis=1)\n",
    "        dfs_values.append(df_all)\n",
    "    df_values = (pd.concat(dfs_values)\n",
    "        .sort_values(['game_id', 'period_id', 'time_seconds'])\n",
    "        .reset_index(drop=True)\n",
    "    )\n",
    "    df_values.to_csv(folder_path+current_competition+'_values.csv', index=False)\n",
    "    return df_values\n",
    "df_values=calculate_values()"
   ]
  },
  {
   "cell_type": "code",
   "execution_count": 159,
   "metadata": {},
   "outputs": [
    {
     "data": {
      "text/html": [
       "<div>\n",
       "<style scoped>\n",
       "    .dataframe tbody tr th:only-of-type {\n",
       "        vertical-align: middle;\n",
       "    }\n",
       "\n",
       "    .dataframe tbody tr th {\n",
       "        vertical-align: top;\n",
       "    }\n",
       "\n",
       "    .dataframe thead th {\n",
       "        text-align: right;\n",
       "    }\n",
       "</style>\n",
       "<table border=\"1\" class=\"dataframe\">\n",
       "  <thead>\n",
       "    <tr style=\"text-align: right;\">\n",
       "      <th></th>\n",
       "      <th>short_name</th>\n",
       "      <th>scores</th>\n",
       "      <th>concedes</th>\n",
       "      <th>offensive_value</th>\n",
       "      <th>defensive_value</th>\n",
       "      <th>vaep_value</th>\n",
       "    </tr>\n",
       "  </thead>\n",
       "  <tbody>\n",
       "    <tr>\n",
       "      <th>0</th>\n",
       "      <td>O. Giroud</td>\n",
       "      <td>0.001204</td>\n",
       "      <td>0.000023</td>\n",
       "      <td>0.000000</td>\n",
       "      <td>-0.000000</td>\n",
       "      <td>0.000000</td>\n",
       "    </tr>\n",
       "    <tr>\n",
       "      <th>1</th>\n",
       "      <td>A. Griezmann</td>\n",
       "      <td>0.001902</td>\n",
       "      <td>0.000053</td>\n",
       "      <td>0.000699</td>\n",
       "      <td>-0.000030</td>\n",
       "      <td>0.000669</td>\n",
       "    </tr>\n",
       "    <tr>\n",
       "      <th>2</th>\n",
       "      <td>N. Kanté</td>\n",
       "      <td>0.000619</td>\n",
       "      <td>0.000156</td>\n",
       "      <td>-0.001284</td>\n",
       "      <td>-0.000104</td>\n",
       "      <td>-0.001387</td>\n",
       "    </tr>\n",
       "    <tr>\n",
       "      <th>3</th>\n",
       "      <td>L. Koscielny</td>\n",
       "      <td>0.001191</td>\n",
       "      <td>0.000832</td>\n",
       "      <td>0.000572</td>\n",
       "      <td>-0.000676</td>\n",
       "      <td>-0.000103</td>\n",
       "    </tr>\n",
       "    <tr>\n",
       "      <th>4</th>\n",
       "      <td>P. Evra</td>\n",
       "      <td>0.001004</td>\n",
       "      <td>0.000136</td>\n",
       "      <td>0.001004</td>\n",
       "      <td>-0.000136</td>\n",
       "      <td>0.000868</td>\n",
       "    </tr>\n",
       "    <tr>\n",
       "      <th>5</th>\n",
       "      <td>C. Săpunaru</td>\n",
       "      <td>0.000200</td>\n",
       "      <td>0.000455</td>\n",
       "      <td>0.000063</td>\n",
       "      <td>0.000549</td>\n",
       "      <td>0.000612</td>\n",
       "    </tr>\n",
       "    <tr>\n",
       "      <th>6</th>\n",
       "      <td>C. Săpunaru</td>\n",
       "      <td>0.000048</td>\n",
       "      <td>0.018807</td>\n",
       "      <td>-0.000152</td>\n",
       "      <td>-0.018352</td>\n",
       "      <td>-0.018504</td>\n",
       "    </tr>\n",
       "    <tr>\n",
       "      <th>7</th>\n",
       "      <td>B. Matuidi</td>\n",
       "      <td>0.004314</td>\n",
       "      <td>0.000202</td>\n",
       "      <td>-0.014493</td>\n",
       "      <td>-0.000154</td>\n",
       "      <td>-0.014648</td>\n",
       "    </tr>\n",
       "    <tr>\n",
       "      <th>8</th>\n",
       "      <td>C. Tătărușanu</td>\n",
       "      <td>0.005392</td>\n",
       "      <td>0.000700</td>\n",
       "      <td>0.005190</td>\n",
       "      <td>0.003614</td>\n",
       "      <td>0.008804</td>\n",
       "    </tr>\n",
       "    <tr>\n",
       "      <th>9</th>\n",
       "      <td>C. Tătărușanu</td>\n",
       "      <td>0.004101</td>\n",
       "      <td>0.001737</td>\n",
       "      <td>-0.001292</td>\n",
       "      <td>-0.001037</td>\n",
       "      <td>-0.002329</td>\n",
       "    </tr>\n",
       "  </tbody>\n",
       "</table>\n",
       "</div>"
      ],
      "text/plain": [
       "      short_name    scores  concedes  offensive_value  defensive_value  \\\n",
       "0      O. Giroud  0.001204  0.000023         0.000000        -0.000000   \n",
       "1   A. Griezmann  0.001902  0.000053         0.000699        -0.000030   \n",
       "2       N. Kanté  0.000619  0.000156        -0.001284        -0.000104   \n",
       "3   L. Koscielny  0.001191  0.000832         0.000572        -0.000676   \n",
       "4        P. Evra  0.001004  0.000136         0.001004        -0.000136   \n",
       "5    C. Săpunaru  0.000200  0.000455         0.000063         0.000549   \n",
       "6    C. Săpunaru  0.000048  0.018807        -0.000152        -0.018352   \n",
       "7     B. Matuidi  0.004314  0.000202        -0.014493        -0.000154   \n",
       "8  C. Tătărușanu  0.005392  0.000700         0.005190         0.003614   \n",
       "9  C. Tătărușanu  0.004101  0.001737        -0.001292        -0.001037   \n",
       "\n",
       "   vaep_value  \n",
       "0    0.000000  \n",
       "1    0.000669  \n",
       "2   -0.001387  \n",
       "3   -0.000103  \n",
       "4    0.000868  \n",
       "5    0.000612  \n",
       "6   -0.018504  \n",
       "7   -0.014648  \n",
       "8    0.008804  \n",
       "9   -0.002329  "
      ]
     },
     "execution_count": 159,
     "metadata": {},
     "output_type": "execute_result"
    }
   ],
   "source": [
    "df_values[\n",
    "    ['short_name', 'scores', 'concedes', 'offensive_value', 'defensive_value', 'vaep_value']\n",
    "].head(10)"
   ]
  },
  {
   "cell_type": "markdown",
   "metadata": {},
   "source": [
    "# Rate players"
   ]
  },
  {
   "cell_type": "code",
   "execution_count": 184,
   "metadata": {},
   "outputs": [
    {
     "data": {
      "text/plain": [
       "'spadl_European_Championship.h5'"
      ]
     },
     "execution_count": 184,
     "metadata": {},
     "output_type": "execute_result"
    }
   ],
   "source": [
    "result_file_spadl"
   ]
  },
  {
   "cell_type": "code",
   "execution_count": 203,
   "metadata": {},
   "outputs": [],
   "source": [
    "dfs=[    \n",
    "    'England_values.csv',\n",
    "    'France_values.csv',\n",
    "    'Germany_values.csv',\n",
    "    'Italy_values.csv',\n",
    "    'Spain_values.csv'\n",
    "]\n",
    "lst=[]\n",
    "for i in range(len(dfs)):\n",
    "    lst.append(pd.read_csv(dfs[i]))\n",
    "    "
   ]
  },
  {
   "cell_type": "code",
   "execution_count": 3,
   "metadata": {},
   "outputs": [],
   "source": [
    "competitions_leagues = [\n",
    "    'England',\n",
    "    'France',\n",
    "    'Germany',\n",
    "    'Italy',\n",
    "    'Spain'\n",
    "]\n",
    "spadle=[    \n",
    "    'spadl_England.h5',\n",
    "    'spadl_France.h5',\n",
    "    'spadl_Germany.h5',\n",
    "    'spadl_Italy.h5',\n",
    "    'spadl_Spain.h5'\n",
    "]\n"
   ]
  },
  {
   "cell_type": "markdown",
   "metadata": {},
   "source": [
    "## Rate according to total VAEP value"
   ]
  },
  {
   "cell_type": "code",
   "execution_count": 331,
   "metadata": {},
   "outputs": [
    {
     "name": "stdout",
     "output_type": "stream",
     "text": [
      "read_spadl_keys done it's work\n"
     ]
    }
   ],
   "source": [
    "def calculate_ranking(folder_path='',result_file_spadl=result_file_spadl,current_competition=current_competition,df_values=df_values):\n",
    "    df_ranking = (df_values[['player_id', 'team_name', 'short_name', 'vaep_value']]\n",
    "        .groupby(['player_id', 'team_name', 'short_name'])\n",
    "        .agg(vaep_count=('vaep_value', 'count'), vaep_sum=('vaep_value', 'sum'))\n",
    "        .sort_values('vaep_sum', ascending=False)\n",
    "        .reset_index()\n",
    "    )\n",
    "    df_player_games = pd.read_hdf(folder_path+result_file_spadl, 'player_games')\n",
    "    #df_games\n",
    "    df_games,df_actiontypes,df_bodyparts,df_results = read_spadl_keys(result_file_spadl)\n",
    "    \n",
    "    df_player_games = df_player_games[df_player_games['game_id'].isin(df_games['game_id'])]\n",
    "    #calcualte minutes played for each player\n",
    "    df_minutes_played = (df_player_games[['player_id', 'minutes_played']]\n",
    "    .groupby('player_id')\n",
    "    .sum()\n",
    "    .reset_index())\n",
    "    df_ranking_p90 = df_ranking.merge(df_minutes_played)\n",
    "    \n",
    "    if current_competition in competitions_leagues:\n",
    "        df_ranking_p90 = df_ranking_p90[df_ranking_p90['minutes_played'] > 1800]\n",
    "    else:\n",
    "        df_ranking_p90 = df_ranking_p90[df_ranking_p90['minutes_played'] > 450]\n",
    "      \n",
    "    df_ranking_p90['vaep_rating'] = df_ranking_p90['vaep_sum'] * 90 / df_ranking_p90['minutes_played']\n",
    "    df_ranking_p90 = df_ranking_p90.sort_values('vaep_rating', ascending=False)\n",
    "    df_ranking_p90.to_csv(folder_path+current_competition+'_ranking_p90.csv', index=False)\n",
    "    return df_ranking_p90\n",
    "df_ranking_p90 = calculate_ranking()"
   ]
  },
  {
   "cell_type": "code",
   "execution_count": 332,
   "metadata": {},
   "outputs": [
    {
     "name": "stdout",
     "output_type": "stream",
     "text": [
      "read_spadl_keys done it's work\n",
      "read_spadl_keys done it's work\n",
      "read_spadl_keys done it's work\n",
      "read_spadl_keys done it's work\n",
      "read_spadl_keys done it's work\n"
     ]
    }
   ],
   "source": [
    "for i in range(len(competitions_leagues)):\n",
    "    df=calculate_ranking(result_file_spadl=spadle[i],current_competition=competitions[i],df_values=lst[i])"
   ]
  },
  {
   "cell_type": "code",
   "execution_count": 333,
   "metadata": {},
   "outputs": [
    {
     "data": {
      "text/html": [
       "<div>\n",
       "<style scoped>\n",
       "    .dataframe tbody tr th:only-of-type {\n",
       "        vertical-align: middle;\n",
       "    }\n",
       "\n",
       "    .dataframe tbody tr th {\n",
       "        vertical-align: top;\n",
       "    }\n",
       "\n",
       "    .dataframe thead th {\n",
       "        text-align: right;\n",
       "    }\n",
       "</style>\n",
       "<table border=\"1\" class=\"dataframe\">\n",
       "  <thead>\n",
       "    <tr style=\"text-align: right;\">\n",
       "      <th></th>\n",
       "      <th>player_id</th>\n",
       "      <th>team_name</th>\n",
       "      <th>short_name</th>\n",
       "      <th>vaep_count</th>\n",
       "      <th>vaep_sum</th>\n",
       "      <th>minutes_played</th>\n",
       "      <th>vaep_rating</th>\n",
       "    </tr>\n",
       "  </thead>\n",
       "  <tbody>\n",
       "    <tr>\n",
       "      <th>0</th>\n",
       "      <td>8278.0</td>\n",
       "      <td>Wales</td>\n",
       "      <td>G. Bale</td>\n",
       "      <td>347</td>\n",
       "      <td>3.721007</td>\n",
       "      <td>551.009829</td>\n",
       "      <td>0.607776</td>\n",
       "    </tr>\n",
       "    <tr>\n",
       "      <th>5</th>\n",
       "      <td>25714.0</td>\n",
       "      <td>France</td>\n",
       "      <td>D. Payet</td>\n",
       "      <td>438</td>\n",
       "      <td>2.458752</td>\n",
       "      <td>516.544493</td>\n",
       "      <td>0.428400</td>\n",
       "    </tr>\n",
       "    <tr>\n",
       "      <th>3</th>\n",
       "      <td>3682.0</td>\n",
       "      <td>France</td>\n",
       "      <td>A. Griezmann</td>\n",
       "      <td>347</td>\n",
       "      <td>2.536231</td>\n",
       "      <td>538.531925</td>\n",
       "      <td>0.423858</td>\n",
       "    </tr>\n",
       "    <tr>\n",
       "      <th>2</th>\n",
       "      <td>70134.0</td>\n",
       "      <td>Portugal</td>\n",
       "      <td>Rui Patrício</td>\n",
       "      <td>252</td>\n",
       "      <td>2.939384</td>\n",
       "      <td>653.390335</td>\n",
       "      <td>0.404880</td>\n",
       "    </tr>\n",
       "    <tr>\n",
       "      <th>4</th>\n",
       "      <td>14723.0</td>\n",
       "      <td>Germany</td>\n",
       "      <td>T. Kroos</td>\n",
       "      <td>751</td>\n",
       "      <td>2.500215</td>\n",
       "      <td>559.043131</td>\n",
       "      <td>0.402508</td>\n",
       "    </tr>\n",
       "    <tr>\n",
       "      <th>7</th>\n",
       "      <td>26010.0</td>\n",
       "      <td>France</td>\n",
       "      <td>O. Giroud</td>\n",
       "      <td>163</td>\n",
       "      <td>1.948772</td>\n",
       "      <td>459.977108</td>\n",
       "      <td>0.381301</td>\n",
       "    </tr>\n",
       "    <tr>\n",
       "      <th>6</th>\n",
       "      <td>7926.0</td>\n",
       "      <td>Portugal</td>\n",
       "      <td>Nani</td>\n",
       "      <td>319</td>\n",
       "      <td>2.022372</td>\n",
       "      <td>629.940981</td>\n",
       "      <td>0.288937</td>\n",
       "    </tr>\n",
       "    <tr>\n",
       "      <th>14</th>\n",
       "      <td>14716.0</td>\n",
       "      <td>Germany</td>\n",
       "      <td>J. Boateng</td>\n",
       "      <td>532</td>\n",
       "      <td>1.544859</td>\n",
       "      <td>487.526462</td>\n",
       "      <td>0.285189</td>\n",
       "    </tr>\n",
       "    <tr>\n",
       "      <th>17</th>\n",
       "      <td>37762.0</td>\n",
       "      <td>Portugal</td>\n",
       "      <td>William Carvalho</td>\n",
       "      <td>397</td>\n",
       "      <td>1.477281</td>\n",
       "      <td>468.631873</td>\n",
       "      <td>0.283710</td>\n",
       "    </tr>\n",
       "    <tr>\n",
       "      <th>18</th>\n",
       "      <td>28907.0</td>\n",
       "      <td>Portugal</td>\n",
       "      <td>Raphaël Guerreiro</td>\n",
       "      <td>407</td>\n",
       "      <td>1.421805</td>\n",
       "      <td>467.415754</td>\n",
       "      <td>0.273766</td>\n",
       "    </tr>\n",
       "  </tbody>\n",
       "</table>\n",
       "</div>"
      ],
      "text/plain": [
       "    player_id team_name         short_name  vaep_count  vaep_sum  \\\n",
       "0      8278.0     Wales            G. Bale         347  3.721007   \n",
       "5     25714.0    France           D. Payet         438  2.458752   \n",
       "3      3682.0    France       A. Griezmann         347  2.536231   \n",
       "2     70134.0  Portugal       Rui Patrício         252  2.939384   \n",
       "4     14723.0   Germany           T. Kroos         751  2.500215   \n",
       "7     26010.0    France          O. Giroud         163  1.948772   \n",
       "6      7926.0  Portugal               Nani         319  2.022372   \n",
       "14    14716.0   Germany         J. Boateng         532  1.544859   \n",
       "17    37762.0  Portugal   William Carvalho         397  1.477281   \n",
       "18    28907.0  Portugal  Raphaël Guerreiro         407  1.421805   \n",
       "\n",
       "    minutes_played  vaep_rating  \n",
       "0       551.009829     0.607776  \n",
       "5       516.544493     0.428400  \n",
       "3       538.531925     0.423858  \n",
       "2       653.390335     0.404880  \n",
       "4       559.043131     0.402508  \n",
       "7       459.977108     0.381301  \n",
       "6       629.940981     0.288937  \n",
       "14      487.526462     0.285189  \n",
       "17      468.631873     0.283710  \n",
       "18      467.415754     0.273766  "
      ]
     },
     "execution_count": 333,
     "metadata": {},
     "output_type": "execute_result"
    }
   ],
   "source": [
    "df_ranking_p90.head(10)"
   ]
  },
  {
   "cell_type": "markdown",
   "metadata": {},
   "source": [
    "# Dashboard "
   ]
  },
  {
   "cell_type": "code",
   "execution_count": 4,
   "metadata": {},
   "outputs": [],
   "source": [
    "competitions = [\n",
    "    'England',\n",
    "    'France',\n",
    "    'Germany',\n",
    "    'Italy',\n",
    "    'Spain',\n",
    "    'European_Championship',\n",
    "    'World_Cup'\n",
    "]"
   ]
  },
  {
   "cell_type": "code",
   "execution_count": 5,
   "metadata": {},
   "outputs": [],
   "source": [
    "import pandas as pd\n",
    "\n",
    "def preprare_data(competitions=competitions):\n",
    "        folder_path = ''\n",
    "        competitions_ranking = {}\n",
    "        competitions_values = {}\n",
    "        competitions_vaep_rating = {}\n",
    "        competitions_player_list = {}\n",
    "        for i in range(len(competitions)):\n",
    "                competitions_ranking[competitions[i]] = pd.read_csv(folder_path+competitions[i]+'_ranking_p90.csv')\n",
    "                competitions_values[competitions[i]] = pd.read_csv(folder_path+competitions[i]+'_values.csv')\n",
    "                competitions_vaep_rating[competitions[i]] = competitions_ranking[competitions[i]]['vaep_rating'][:10].to_list()\n",
    "                competitions_player_list[competitions[i]] = competitions_ranking[competitions[i]]['short_name'][:10].to_list()\n",
    "        return competitions_ranking,competitions_values,competitions_vaep_rating,competitions_player_list \n",
    "competitions_ranking,competitions_values,competitions_vaep_rating,competitions_player_list = preprare_data()\n"
   ]
  },
  {
   "cell_type": "code",
   "execution_count": 6,
   "metadata": {},
   "outputs": [],
   "source": [
    "import plotly.graph_objects as go\n",
    "import dash\n",
    "import dash_html_components as html\n",
    "import dash_core_components as dcc\n",
    "import dash_bootstrap_components as dbc\n",
    "from dash.dependencies import Input, Output\n",
    "import plotly.express as px"
   ]
  },
  {
   "cell_type": "code",
   "execution_count": 7,
   "metadata": {},
   "outputs": [],
   "source": [
    "layout = go.Layout(\n",
    "  margin=go.layout.Margin(\n",
    "        l=2, # left margin\n",
    "        r=0, # right margin\n",
    "        b=0, # bottom margin\n",
    "        t=0, # top margin\n",
    "    ),paper_bgcolor='#002b36',plot_bgcolor='#002b36'\n",
    ")"
   ]
  },
  {
   "cell_type": "code",
   "execution_count": 8,
   "metadata": {},
   "outputs": [],
   "source": [
    "def fig_bars(competitions=competitions,competitions_player_list=competitions_player_list,competitions_vaep_rating=competitions_vaep_rating):\n",
    "    bar_figures = {}\n",
    "    for i in range(len(competitions)):\n",
    "        fig = px.line(x=competitions_player_list[competitions[i]], y=competitions_vaep_rating[competitions[i]], color=px.Constant(\"\"),\n",
    "                    labels=dict(x=\"Players\", y=\"Vaep Rating\", color=competitions[i]))\n",
    "        fig.add_bar(x=competitions_player_list[competitions[i]], y=competitions_vaep_rating[competitions[i]], name=\"Player Rating\")\n",
    "        fig.update_layout(layout,font_color='white')\n",
    "        fig.update_traces(marker_color='#a9bdbd', selector=dict(type='bar'))\n",
    "        bar_figures[competitions[i]] = fig\n",
    "    return bar_figures\n",
    "\n",
    "bar_figures = fig_bars()\n",
    "         \n",
    "                                                                                         "
   ]
  },
  {
   "cell_type": "code",
   "execution_count": 8,
   "metadata": {},
   "outputs": [
    {
     "data": {
      "application/vnd.plotly.v1+json": {
       "config": {
        "plotlyServerURL": "https://plot.ly"
       },
       "data": [
        {
         "hovertemplate": "England=<br>Players=%{x}<br>Vaep Rating=%{y}<extra></extra>",
         "legendgroup": "",
         "line": {
          "color": "#636efa",
          "dash": "solid"
         },
         "marker": {
          "symbol": "circle"
         },
         "mode": "lines",
         "name": "",
         "orientation": "v",
         "showlegend": false,
         "type": "scatter",
         "x": [
          "Mohamed Salah",
          "E. Hazard",
          "R. Mahrez",
          "K. De Bruyne",
          "David Silva",
          "C. Eriksen",
          "M. Özil",
          "Son Heung-Min",
          "P. Pogba",
          "S. Agüero"
         ],
         "xaxis": "x",
         "y": [
          0.7165719747411546,
          0.5756470168575176,
          0.53875131174382,
          0.5361842227761324,
          0.4568852734251751,
          0.454510763098174,
          0.4504458119449072,
          0.4152962515652365,
          0.4029502159673407,
          0.4026063167064246
         ],
         "yaxis": "y"
        },
        {
         "marker": {
          "color": "#a9bdbd"
         },
         "name": "Player Rating",
         "type": "bar",
         "x": [
          "Mohamed Salah",
          "E. Hazard",
          "R. Mahrez",
          "K. De Bruyne",
          "David Silva",
          "C. Eriksen",
          "M. Özil",
          "Son Heung-Min",
          "P. Pogba",
          "S. Agüero"
         ],
         "y": [
          0.7165719747411546,
          0.5756470168575176,
          0.53875131174382,
          0.5361842227761324,
          0.4568852734251751,
          0.454510763098174,
          0.4504458119449072,
          0.4152962515652365,
          0.4029502159673407,
          0.4026063167064246
         ]
        }
       ],
       "layout": {
        "font": {
         "color": "white"
        },
        "legend": {
         "title": {
          "text": "England"
         },
         "tracegroupgap": 0
        },
        "margin": {
         "b": 0,
         "l": 2,
         "r": 0,
         "t": 0
        },
        "paper_bgcolor": "#002b36",
        "plot_bgcolor": "#002b36",
        "template": {
         "data": {
          "bar": [
           {
            "error_x": {
             "color": "#2a3f5f"
            },
            "error_y": {
             "color": "#2a3f5f"
            },
            "marker": {
             "line": {
              "color": "#E5ECF6",
              "width": 0.5
             },
             "pattern": {
              "fillmode": "overlay",
              "size": 10,
              "solidity": 0.2
             }
            },
            "type": "bar"
           }
          ],
          "barpolar": [
           {
            "marker": {
             "line": {
              "color": "#E5ECF6",
              "width": 0.5
             },
             "pattern": {
              "fillmode": "overlay",
              "size": 10,
              "solidity": 0.2
             }
            },
            "type": "barpolar"
           }
          ],
          "carpet": [
           {
            "aaxis": {
             "endlinecolor": "#2a3f5f",
             "gridcolor": "white",
             "linecolor": "white",
             "minorgridcolor": "white",
             "startlinecolor": "#2a3f5f"
            },
            "baxis": {
             "endlinecolor": "#2a3f5f",
             "gridcolor": "white",
             "linecolor": "white",
             "minorgridcolor": "white",
             "startlinecolor": "#2a3f5f"
            },
            "type": "carpet"
           }
          ],
          "choropleth": [
           {
            "colorbar": {
             "outlinewidth": 0,
             "ticks": ""
            },
            "type": "choropleth"
           }
          ],
          "contour": [
           {
            "colorbar": {
             "outlinewidth": 0,
             "ticks": ""
            },
            "colorscale": [
             [
              0,
              "#0d0887"
             ],
             [
              0.1111111111111111,
              "#46039f"
             ],
             [
              0.2222222222222222,
              "#7201a8"
             ],
             [
              0.3333333333333333,
              "#9c179e"
             ],
             [
              0.4444444444444444,
              "#bd3786"
             ],
             [
              0.5555555555555556,
              "#d8576b"
             ],
             [
              0.6666666666666666,
              "#ed7953"
             ],
             [
              0.7777777777777778,
              "#fb9f3a"
             ],
             [
              0.8888888888888888,
              "#fdca26"
             ],
             [
              1,
              "#f0f921"
             ]
            ],
            "type": "contour"
           }
          ],
          "contourcarpet": [
           {
            "colorbar": {
             "outlinewidth": 0,
             "ticks": ""
            },
            "type": "contourcarpet"
           }
          ],
          "heatmap": [
           {
            "colorbar": {
             "outlinewidth": 0,
             "ticks": ""
            },
            "colorscale": [
             [
              0,
              "#0d0887"
             ],
             [
              0.1111111111111111,
              "#46039f"
             ],
             [
              0.2222222222222222,
              "#7201a8"
             ],
             [
              0.3333333333333333,
              "#9c179e"
             ],
             [
              0.4444444444444444,
              "#bd3786"
             ],
             [
              0.5555555555555556,
              "#d8576b"
             ],
             [
              0.6666666666666666,
              "#ed7953"
             ],
             [
              0.7777777777777778,
              "#fb9f3a"
             ],
             [
              0.8888888888888888,
              "#fdca26"
             ],
             [
              1,
              "#f0f921"
             ]
            ],
            "type": "heatmap"
           }
          ],
          "heatmapgl": [
           {
            "colorbar": {
             "outlinewidth": 0,
             "ticks": ""
            },
            "colorscale": [
             [
              0,
              "#0d0887"
             ],
             [
              0.1111111111111111,
              "#46039f"
             ],
             [
              0.2222222222222222,
              "#7201a8"
             ],
             [
              0.3333333333333333,
              "#9c179e"
             ],
             [
              0.4444444444444444,
              "#bd3786"
             ],
             [
              0.5555555555555556,
              "#d8576b"
             ],
             [
              0.6666666666666666,
              "#ed7953"
             ],
             [
              0.7777777777777778,
              "#fb9f3a"
             ],
             [
              0.8888888888888888,
              "#fdca26"
             ],
             [
              1,
              "#f0f921"
             ]
            ],
            "type": "heatmapgl"
           }
          ],
          "histogram": [
           {
            "marker": {
             "pattern": {
              "fillmode": "overlay",
              "size": 10,
              "solidity": 0.2
             }
            },
            "type": "histogram"
           }
          ],
          "histogram2d": [
           {
            "colorbar": {
             "outlinewidth": 0,
             "ticks": ""
            },
            "colorscale": [
             [
              0,
              "#0d0887"
             ],
             [
              0.1111111111111111,
              "#46039f"
             ],
             [
              0.2222222222222222,
              "#7201a8"
             ],
             [
              0.3333333333333333,
              "#9c179e"
             ],
             [
              0.4444444444444444,
              "#bd3786"
             ],
             [
              0.5555555555555556,
              "#d8576b"
             ],
             [
              0.6666666666666666,
              "#ed7953"
             ],
             [
              0.7777777777777778,
              "#fb9f3a"
             ],
             [
              0.8888888888888888,
              "#fdca26"
             ],
             [
              1,
              "#f0f921"
             ]
            ],
            "type": "histogram2d"
           }
          ],
          "histogram2dcontour": [
           {
            "colorbar": {
             "outlinewidth": 0,
             "ticks": ""
            },
            "colorscale": [
             [
              0,
              "#0d0887"
             ],
             [
              0.1111111111111111,
              "#46039f"
             ],
             [
              0.2222222222222222,
              "#7201a8"
             ],
             [
              0.3333333333333333,
              "#9c179e"
             ],
             [
              0.4444444444444444,
              "#bd3786"
             ],
             [
              0.5555555555555556,
              "#d8576b"
             ],
             [
              0.6666666666666666,
              "#ed7953"
             ],
             [
              0.7777777777777778,
              "#fb9f3a"
             ],
             [
              0.8888888888888888,
              "#fdca26"
             ],
             [
              1,
              "#f0f921"
             ]
            ],
            "type": "histogram2dcontour"
           }
          ],
          "mesh3d": [
           {
            "colorbar": {
             "outlinewidth": 0,
             "ticks": ""
            },
            "type": "mesh3d"
           }
          ],
          "parcoords": [
           {
            "line": {
             "colorbar": {
              "outlinewidth": 0,
              "ticks": ""
             }
            },
            "type": "parcoords"
           }
          ],
          "pie": [
           {
            "automargin": true,
            "type": "pie"
           }
          ],
          "scatter": [
           {
            "marker": {
             "colorbar": {
              "outlinewidth": 0,
              "ticks": ""
             }
            },
            "type": "scatter"
           }
          ],
          "scatter3d": [
           {
            "line": {
             "colorbar": {
              "outlinewidth": 0,
              "ticks": ""
             }
            },
            "marker": {
             "colorbar": {
              "outlinewidth": 0,
              "ticks": ""
             }
            },
            "type": "scatter3d"
           }
          ],
          "scattercarpet": [
           {
            "marker": {
             "colorbar": {
              "outlinewidth": 0,
              "ticks": ""
             }
            },
            "type": "scattercarpet"
           }
          ],
          "scattergeo": [
           {
            "marker": {
             "colorbar": {
              "outlinewidth": 0,
              "ticks": ""
             }
            },
            "type": "scattergeo"
           }
          ],
          "scattergl": [
           {
            "marker": {
             "colorbar": {
              "outlinewidth": 0,
              "ticks": ""
             }
            },
            "type": "scattergl"
           }
          ],
          "scattermapbox": [
           {
            "marker": {
             "colorbar": {
              "outlinewidth": 0,
              "ticks": ""
             }
            },
            "type": "scattermapbox"
           }
          ],
          "scatterpolar": [
           {
            "marker": {
             "colorbar": {
              "outlinewidth": 0,
              "ticks": ""
             }
            },
            "type": "scatterpolar"
           }
          ],
          "scatterpolargl": [
           {
            "marker": {
             "colorbar": {
              "outlinewidth": 0,
              "ticks": ""
             }
            },
            "type": "scatterpolargl"
           }
          ],
          "scatterternary": [
           {
            "marker": {
             "colorbar": {
              "outlinewidth": 0,
              "ticks": ""
             }
            },
            "type": "scatterternary"
           }
          ],
          "surface": [
           {
            "colorbar": {
             "outlinewidth": 0,
             "ticks": ""
            },
            "colorscale": [
             [
              0,
              "#0d0887"
             ],
             [
              0.1111111111111111,
              "#46039f"
             ],
             [
              0.2222222222222222,
              "#7201a8"
             ],
             [
              0.3333333333333333,
              "#9c179e"
             ],
             [
              0.4444444444444444,
              "#bd3786"
             ],
             [
              0.5555555555555556,
              "#d8576b"
             ],
             [
              0.6666666666666666,
              "#ed7953"
             ],
             [
              0.7777777777777778,
              "#fb9f3a"
             ],
             [
              0.8888888888888888,
              "#fdca26"
             ],
             [
              1,
              "#f0f921"
             ]
            ],
            "type": "surface"
           }
          ],
          "table": [
           {
            "cells": {
             "fill": {
              "color": "#EBF0F8"
             },
             "line": {
              "color": "white"
             }
            },
            "header": {
             "fill": {
              "color": "#C8D4E3"
             },
             "line": {
              "color": "white"
             }
            },
            "type": "table"
           }
          ]
         },
         "layout": {
          "annotationdefaults": {
           "arrowcolor": "#2a3f5f",
           "arrowhead": 0,
           "arrowwidth": 1
          },
          "autotypenumbers": "strict",
          "coloraxis": {
           "colorbar": {
            "outlinewidth": 0,
            "ticks": ""
           }
          },
          "colorscale": {
           "diverging": [
            [
             0,
             "#8e0152"
            ],
            [
             0.1,
             "#c51b7d"
            ],
            [
             0.2,
             "#de77ae"
            ],
            [
             0.3,
             "#f1b6da"
            ],
            [
             0.4,
             "#fde0ef"
            ],
            [
             0.5,
             "#f7f7f7"
            ],
            [
             0.6,
             "#e6f5d0"
            ],
            [
             0.7,
             "#b8e186"
            ],
            [
             0.8,
             "#7fbc41"
            ],
            [
             0.9,
             "#4d9221"
            ],
            [
             1,
             "#276419"
            ]
           ],
           "sequential": [
            [
             0,
             "#0d0887"
            ],
            [
             0.1111111111111111,
             "#46039f"
            ],
            [
             0.2222222222222222,
             "#7201a8"
            ],
            [
             0.3333333333333333,
             "#9c179e"
            ],
            [
             0.4444444444444444,
             "#bd3786"
            ],
            [
             0.5555555555555556,
             "#d8576b"
            ],
            [
             0.6666666666666666,
             "#ed7953"
            ],
            [
             0.7777777777777778,
             "#fb9f3a"
            ],
            [
             0.8888888888888888,
             "#fdca26"
            ],
            [
             1,
             "#f0f921"
            ]
           ],
           "sequentialminus": [
            [
             0,
             "#0d0887"
            ],
            [
             0.1111111111111111,
             "#46039f"
            ],
            [
             0.2222222222222222,
             "#7201a8"
            ],
            [
             0.3333333333333333,
             "#9c179e"
            ],
            [
             0.4444444444444444,
             "#bd3786"
            ],
            [
             0.5555555555555556,
             "#d8576b"
            ],
            [
             0.6666666666666666,
             "#ed7953"
            ],
            [
             0.7777777777777778,
             "#fb9f3a"
            ],
            [
             0.8888888888888888,
             "#fdca26"
            ],
            [
             1,
             "#f0f921"
            ]
           ]
          },
          "colorway": [
           "#636efa",
           "#EF553B",
           "#00cc96",
           "#ab63fa",
           "#FFA15A",
           "#19d3f3",
           "#FF6692",
           "#B6E880",
           "#FF97FF",
           "#FECB52"
          ],
          "font": {
           "color": "#2a3f5f"
          },
          "geo": {
           "bgcolor": "white",
           "lakecolor": "white",
           "landcolor": "#E5ECF6",
           "showlakes": true,
           "showland": true,
           "subunitcolor": "white"
          },
          "hoverlabel": {
           "align": "left"
          },
          "hovermode": "closest",
          "mapbox": {
           "style": "light"
          },
          "paper_bgcolor": "white",
          "plot_bgcolor": "#E5ECF6",
          "polar": {
           "angularaxis": {
            "gridcolor": "white",
            "linecolor": "white",
            "ticks": ""
           },
           "bgcolor": "#E5ECF6",
           "radialaxis": {
            "gridcolor": "white",
            "linecolor": "white",
            "ticks": ""
           }
          },
          "scene": {
           "xaxis": {
            "backgroundcolor": "#E5ECF6",
            "gridcolor": "white",
            "gridwidth": 2,
            "linecolor": "white",
            "showbackground": true,
            "ticks": "",
            "zerolinecolor": "white"
           },
           "yaxis": {
            "backgroundcolor": "#E5ECF6",
            "gridcolor": "white",
            "gridwidth": 2,
            "linecolor": "white",
            "showbackground": true,
            "ticks": "",
            "zerolinecolor": "white"
           },
           "zaxis": {
            "backgroundcolor": "#E5ECF6",
            "gridcolor": "white",
            "gridwidth": 2,
            "linecolor": "white",
            "showbackground": true,
            "ticks": "",
            "zerolinecolor": "white"
           }
          },
          "shapedefaults": {
           "line": {
            "color": "#2a3f5f"
           }
          },
          "ternary": {
           "aaxis": {
            "gridcolor": "white",
            "linecolor": "white",
            "ticks": ""
           },
           "baxis": {
            "gridcolor": "white",
            "linecolor": "white",
            "ticks": ""
           },
           "bgcolor": "#E5ECF6",
           "caxis": {
            "gridcolor": "white",
            "linecolor": "white",
            "ticks": ""
           }
          },
          "title": {
           "x": 0.05
          },
          "xaxis": {
           "automargin": true,
           "gridcolor": "white",
           "linecolor": "white",
           "ticks": "",
           "title": {
            "standoff": 15
           },
           "zerolinecolor": "white",
           "zerolinewidth": 2
          },
          "yaxis": {
           "automargin": true,
           "gridcolor": "white",
           "linecolor": "white",
           "ticks": "",
           "title": {
            "standoff": 15
           },
           "zerolinecolor": "white",
           "zerolinewidth": 2
          }
         }
        },
        "xaxis": {
         "anchor": "y",
         "domain": [
          0,
          1
         ],
         "title": {
          "text": "Players"
         }
        },
        "yaxis": {
         "anchor": "x",
         "domain": [
          0,
          1
         ],
         "title": {
          "text": "Vaep Rating"
         }
        }
       }
      }
     },
     "metadata": {},
     "output_type": "display_data"
    }
   ],
   "source": [
    "bar_figures['England'].show()   "
   ]
  },
  {
   "cell_type": "code",
   "execution_count": 9,
   "metadata": {},
   "outputs": [],
   "source": [
    "competitions_leagues = [\n",
    "    'England',\n",
    "    'France',\n",
    "    'Germany',\n",
    "    'Italy',\n",
    "    'Spain'\n",
    "]\n",
    "spadle=[    \n",
    "    'spadl_England.h5',\n",
    "    'spadl_France.h5',\n",
    "    'spadl_Germany.h5',\n",
    "    'spadl_Italy.h5',\n",
    "    'spadl_Spain.h5'\n",
    "]\n"
   ]
  },
  {
   "cell_type": "code",
   "execution_count": 10,
   "metadata": {},
   "outputs": [],
   "source": [
    "#prepare data for summary boxes --- using competitions_values\n",
    "\n",
    "\n",
    "def competition_summary(competitions=competitions,competitions_values=competitions_values):\n",
    "    total_goals = {}\n",
    "    shots_per_goal = {}\n",
    "    Average_goals_per_match ={}\n",
    "    Average_fouls_per_match = {}\n",
    "    for i in range(len(competitions)):\n",
    "        shot_goals=sum((competitions_values[competitions[i]][competitions_values[competitions[i]]['type_name']=='shot']['result_name'].reset_index(drop=True)==\"success\").to_list())\n",
    "\n",
    "        Penalty_goals=sum((competitions_values[competitions[i]][competitions_values[competitions[i]]['type_name']=='shot_penalty']['result_name'].reset_index(drop=True)==\"success\").to_list())\n",
    "\n",
    "        freekick_shot_goals=sum((competitions_values[competitions[i]][competitions_values[competitions[i]]['type_name']=='shot_freekick']['result_name'].reset_index(drop=True)==\"success\").to_list())\n",
    "\n",
    "        #c1\n",
    "        total_goals[competitions[i]] = shot_goals+Penalty_goals+freekick_shot_goals\n",
    "        shots=len(competitions_values[competitions[i]][competitions_values[competitions[i]]['type_name']=='shot'])\n",
    "        #c2\n",
    "        shots_per_goal[competitions[i]] = round(shots/total_goals[competitions[i]],2)\n",
    "\n",
    "        #c3\n",
    "        if competitions[i] in competitions_leagues:\n",
    "            if competitions[i]=='Germany':\n",
    "                Average_goals_per_match[competitions[i]] = round(total_goals[competitions[i]]/306,2)\n",
    "                fouls=len(competitions_values[competitions[i]][competitions_values[competitions[i]]['type_name']=='foul']) \n",
    "                #c4\n",
    "                Average_fouls_per_match[competitions[i]] =round(fouls/306,2)\n",
    "            else:\n",
    "                Average_goals_per_match[competitions[i]] = round(total_goals[competitions[i]]/380,2)\n",
    "                fouls=len(competitions_values[competitions[i]][competitions_values[competitions[i]]['type_name']=='foul'])\n",
    "                #c4\n",
    "                Average_fouls_per_match[competitions[i]] =round(fouls/380,2)\n",
    "        else:\n",
    "            Average_goals_per_match[competitions[i]] = round(total_goals[competitions[i]]/64,2)\n",
    "            fouls=len(competitions_values[competitions[i]][competitions_values[competitions[i]]['type_name']=='foul'])\n",
    "            #c4\n",
    "            Average_fouls_per_match[competitions[i]] =round(fouls/64,2)\n",
    "        \n",
    "    return total_goals,shots_per_goal,Average_goals_per_match,Average_fouls_per_match\n",
    "\n",
    "total_goals,shots_per_goal,Average_goals_per_match,Average_fouls_per_match = competition_summary()"
   ]
  },
  {
   "cell_type": "code",
   "execution_count": 13,
   "metadata": {},
   "outputs": [
    {
     "data": {
      "text/plain": [
       "{'England': 8.55,\n",
       " 'France': 8.34,\n",
       " 'Germany': 8.28,\n",
       " 'Italy': 9.0,\n",
       " 'Spain': 8.04,\n",
       " 'European_Championship': 9.01,\n",
       " 'World_Cup': 7.75}"
      ]
     },
     "execution_count": 13,
     "metadata": {},
     "output_type": "execute_result"
    }
   ],
   "source": [
    "shots_per_goal"
   ]
  },
  {
   "cell_type": "code",
   "execution_count": 12,
   "metadata": {},
   "outputs": [],
   "source": [
    "from collections import defaultdict\n",
    "#best 3 player radars  --- using competitions_values\n",
    "def fig_player_radars(competitions_player_list=competitions_player_list,competitions_values=competitions_values,radars_figures=defaultdict(list)):\n",
    "    for i in range(len(competitions)) :\n",
    "        top_players = competitions_player_list[competitions[i]][:3]\n",
    "        for j in range(len(top_players)):\n",
    "            current_player=competitions_values[competitions[i]][competitions_values[competitions[i]]['short_name']==top_players[j]]\n",
    "\n",
    "            player_radars_fouls = len(current_player[current_player['type_name']=='foul'])\n",
    "            player_radars_pass =len(current_player[current_player['type_name']=='pass'])\n",
    "            player_radars_take_on =len(current_player[current_player['type_name']=='take_on'])\n",
    "            player_radars_tackle =len(current_player[current_player['type_name']=='tackle'])\n",
    "            player_radars_shot =len(current_player[current_player['type_name']=='shot'])\n",
    "\n",
    "            #plot them\n",
    "            if competitions[i] in competitions_leagues:\n",
    "                current_player_df = pd.DataFrame(dict(\n",
    "                    r=[player_radars_fouls, player_radars_pass/30, player_radars_take_on, player_radars_tackle, player_radars_shot],\n",
    "                    theta=['Fouls','Passes','Take on','Tackles', 'Shots']))\n",
    "                fig = px.line_polar(current_player_df, r='r', theta='theta', line_close=True,template=\"plotly_dark\")\n",
    "            else:\n",
    "                current_player_df = pd.DataFrame(dict(\n",
    "                    r=[player_radars_fouls, player_radars_pass/60, player_radars_take_on, player_radars_tackle, player_radars_shot],\n",
    "                    theta=['Fouls','Passes','Take on','Tackles', 'Shots']))\n",
    "                fig = px.line_polar(current_player_df, r='r', theta='theta', line_close=True,template=\"plotly_dark\")\n",
    "            color = \"#FFD700\"\n",
    "            if j == 1:\n",
    "                color = \"#C0C0C0\"\n",
    "            elif j == 2:\n",
    "                color = '#CD7F32'\n",
    "            fig.update_traces(fill='toself',fillcolor=color,line_color=color,opacity=0.6)\n",
    "            fig.update_layout(title=\"Rank : \"+str(j+1)+' '+top_players[j],font=dict(\n",
    "                    family=\"Courier New, monospace\",\n",
    "                    size=18,\n",
    "                    color=color\n",
    "                ),paper_bgcolor='#073642',plot_bgcolor='#073642')\n",
    "            # if not isinstance(radars_figures[competitions[i]], list):\n",
    "            #     radars_figures[competitions[i]] = [radars_figures[competitions[i]]]          \n",
    "            radars_figures[competitions[i]].append(fig)\n",
    "    return radars_figures\n",
    "radars_figures = fig_player_radars()"
   ]
  },
  {
   "cell_type": "code",
   "execution_count": 15,
   "metadata": {},
   "outputs": [
    {
     "data": {
      "application/vnd.plotly.v1+json": {
       "config": {
        "plotlyServerURL": "https://plot.ly"
       },
       "data": [
        {
         "fill": "toself",
         "fillcolor": "#FFD700",
         "hovertemplate": "r=%{r}<br>theta=%{theta}<extra></extra>",
         "legendgroup": "",
         "line": {
          "color": "#FFD700",
          "dash": "solid"
         },
         "marker": {
          "symbol": "circle"
         },
         "mode": "lines",
         "name": "",
         "opacity": 0.6,
         "r": [
          16,
          30.533333333333335,
          65,
          1,
          136,
          16
         ],
         "showlegend": false,
         "subplot": "polar",
         "theta": [
          "Fouls",
          "Passes",
          "Take on",
          "Tackles",
          "Shots",
          "Fouls"
         ],
         "type": "scatterpolar"
        }
       ],
       "layout": {
        "font": {
         "color": "#FFD700",
         "family": "Courier New, monospace",
         "size": 18
        },
        "legend": {
         "tracegroupgap": 0
        },
        "margin": {
         "t": 60
        },
        "paper_bgcolor": "#073642",
        "plot_bgcolor": "#073642",
        "polar": {
         "angularaxis": {
          "direction": "clockwise",
          "rotation": 90
         },
         "domain": {
          "x": [
           0,
           1
          ],
          "y": [
           0,
           1
          ]
         }
        },
        "template": {
         "data": {
          "bar": [
           {
            "error_x": {
             "color": "#f2f5fa"
            },
            "error_y": {
             "color": "#f2f5fa"
            },
            "marker": {
             "line": {
              "color": "rgb(17,17,17)",
              "width": 0.5
             },
             "pattern": {
              "fillmode": "overlay",
              "size": 10,
              "solidity": 0.2
             }
            },
            "type": "bar"
           }
          ],
          "barpolar": [
           {
            "marker": {
             "line": {
              "color": "rgb(17,17,17)",
              "width": 0.5
             },
             "pattern": {
              "fillmode": "overlay",
              "size": 10,
              "solidity": 0.2
             }
            },
            "type": "barpolar"
           }
          ],
          "carpet": [
           {
            "aaxis": {
             "endlinecolor": "#A2B1C6",
             "gridcolor": "#506784",
             "linecolor": "#506784",
             "minorgridcolor": "#506784",
             "startlinecolor": "#A2B1C6"
            },
            "baxis": {
             "endlinecolor": "#A2B1C6",
             "gridcolor": "#506784",
             "linecolor": "#506784",
             "minorgridcolor": "#506784",
             "startlinecolor": "#A2B1C6"
            },
            "type": "carpet"
           }
          ],
          "choropleth": [
           {
            "colorbar": {
             "outlinewidth": 0,
             "ticks": ""
            },
            "type": "choropleth"
           }
          ],
          "contour": [
           {
            "colorbar": {
             "outlinewidth": 0,
             "ticks": ""
            },
            "colorscale": [
             [
              0,
              "#0d0887"
             ],
             [
              0.1111111111111111,
              "#46039f"
             ],
             [
              0.2222222222222222,
              "#7201a8"
             ],
             [
              0.3333333333333333,
              "#9c179e"
             ],
             [
              0.4444444444444444,
              "#bd3786"
             ],
             [
              0.5555555555555556,
              "#d8576b"
             ],
             [
              0.6666666666666666,
              "#ed7953"
             ],
             [
              0.7777777777777778,
              "#fb9f3a"
             ],
             [
              0.8888888888888888,
              "#fdca26"
             ],
             [
              1,
              "#f0f921"
             ]
            ],
            "type": "contour"
           }
          ],
          "contourcarpet": [
           {
            "colorbar": {
             "outlinewidth": 0,
             "ticks": ""
            },
            "type": "contourcarpet"
           }
          ],
          "heatmap": [
           {
            "colorbar": {
             "outlinewidth": 0,
             "ticks": ""
            },
            "colorscale": [
             [
              0,
              "#0d0887"
             ],
             [
              0.1111111111111111,
              "#46039f"
             ],
             [
              0.2222222222222222,
              "#7201a8"
             ],
             [
              0.3333333333333333,
              "#9c179e"
             ],
             [
              0.4444444444444444,
              "#bd3786"
             ],
             [
              0.5555555555555556,
              "#d8576b"
             ],
             [
              0.6666666666666666,
              "#ed7953"
             ],
             [
              0.7777777777777778,
              "#fb9f3a"
             ],
             [
              0.8888888888888888,
              "#fdca26"
             ],
             [
              1,
              "#f0f921"
             ]
            ],
            "type": "heatmap"
           }
          ],
          "heatmapgl": [
           {
            "colorbar": {
             "outlinewidth": 0,
             "ticks": ""
            },
            "colorscale": [
             [
              0,
              "#0d0887"
             ],
             [
              0.1111111111111111,
              "#46039f"
             ],
             [
              0.2222222222222222,
              "#7201a8"
             ],
             [
              0.3333333333333333,
              "#9c179e"
             ],
             [
              0.4444444444444444,
              "#bd3786"
             ],
             [
              0.5555555555555556,
              "#d8576b"
             ],
             [
              0.6666666666666666,
              "#ed7953"
             ],
             [
              0.7777777777777778,
              "#fb9f3a"
             ],
             [
              0.8888888888888888,
              "#fdca26"
             ],
             [
              1,
              "#f0f921"
             ]
            ],
            "type": "heatmapgl"
           }
          ],
          "histogram": [
           {
            "marker": {
             "pattern": {
              "fillmode": "overlay",
              "size": 10,
              "solidity": 0.2
             }
            },
            "type": "histogram"
           }
          ],
          "histogram2d": [
           {
            "colorbar": {
             "outlinewidth": 0,
             "ticks": ""
            },
            "colorscale": [
             [
              0,
              "#0d0887"
             ],
             [
              0.1111111111111111,
              "#46039f"
             ],
             [
              0.2222222222222222,
              "#7201a8"
             ],
             [
              0.3333333333333333,
              "#9c179e"
             ],
             [
              0.4444444444444444,
              "#bd3786"
             ],
             [
              0.5555555555555556,
              "#d8576b"
             ],
             [
              0.6666666666666666,
              "#ed7953"
             ],
             [
              0.7777777777777778,
              "#fb9f3a"
             ],
             [
              0.8888888888888888,
              "#fdca26"
             ],
             [
              1,
              "#f0f921"
             ]
            ],
            "type": "histogram2d"
           }
          ],
          "histogram2dcontour": [
           {
            "colorbar": {
             "outlinewidth": 0,
             "ticks": ""
            },
            "colorscale": [
             [
              0,
              "#0d0887"
             ],
             [
              0.1111111111111111,
              "#46039f"
             ],
             [
              0.2222222222222222,
              "#7201a8"
             ],
             [
              0.3333333333333333,
              "#9c179e"
             ],
             [
              0.4444444444444444,
              "#bd3786"
             ],
             [
              0.5555555555555556,
              "#d8576b"
             ],
             [
              0.6666666666666666,
              "#ed7953"
             ],
             [
              0.7777777777777778,
              "#fb9f3a"
             ],
             [
              0.8888888888888888,
              "#fdca26"
             ],
             [
              1,
              "#f0f921"
             ]
            ],
            "type": "histogram2dcontour"
           }
          ],
          "mesh3d": [
           {
            "colorbar": {
             "outlinewidth": 0,
             "ticks": ""
            },
            "type": "mesh3d"
           }
          ],
          "parcoords": [
           {
            "line": {
             "colorbar": {
              "outlinewidth": 0,
              "ticks": ""
             }
            },
            "type": "parcoords"
           }
          ],
          "pie": [
           {
            "automargin": true,
            "type": "pie"
           }
          ],
          "scatter": [
           {
            "marker": {
             "line": {
              "color": "#283442"
             }
            },
            "type": "scatter"
           }
          ],
          "scatter3d": [
           {
            "line": {
             "colorbar": {
              "outlinewidth": 0,
              "ticks": ""
             }
            },
            "marker": {
             "colorbar": {
              "outlinewidth": 0,
              "ticks": ""
             }
            },
            "type": "scatter3d"
           }
          ],
          "scattercarpet": [
           {
            "marker": {
             "colorbar": {
              "outlinewidth": 0,
              "ticks": ""
             }
            },
            "type": "scattercarpet"
           }
          ],
          "scattergeo": [
           {
            "marker": {
             "colorbar": {
              "outlinewidth": 0,
              "ticks": ""
             }
            },
            "type": "scattergeo"
           }
          ],
          "scattergl": [
           {
            "marker": {
             "line": {
              "color": "#283442"
             }
            },
            "type": "scattergl"
           }
          ],
          "scattermapbox": [
           {
            "marker": {
             "colorbar": {
              "outlinewidth": 0,
              "ticks": ""
             }
            },
            "type": "scattermapbox"
           }
          ],
          "scatterpolar": [
           {
            "marker": {
             "colorbar": {
              "outlinewidth": 0,
              "ticks": ""
             }
            },
            "type": "scatterpolar"
           }
          ],
          "scatterpolargl": [
           {
            "marker": {
             "colorbar": {
              "outlinewidth": 0,
              "ticks": ""
             }
            },
            "type": "scatterpolargl"
           }
          ],
          "scatterternary": [
           {
            "marker": {
             "colorbar": {
              "outlinewidth": 0,
              "ticks": ""
             }
            },
            "type": "scatterternary"
           }
          ],
          "surface": [
           {
            "colorbar": {
             "outlinewidth": 0,
             "ticks": ""
            },
            "colorscale": [
             [
              0,
              "#0d0887"
             ],
             [
              0.1111111111111111,
              "#46039f"
             ],
             [
              0.2222222222222222,
              "#7201a8"
             ],
             [
              0.3333333333333333,
              "#9c179e"
             ],
             [
              0.4444444444444444,
              "#bd3786"
             ],
             [
              0.5555555555555556,
              "#d8576b"
             ],
             [
              0.6666666666666666,
              "#ed7953"
             ],
             [
              0.7777777777777778,
              "#fb9f3a"
             ],
             [
              0.8888888888888888,
              "#fdca26"
             ],
             [
              1,
              "#f0f921"
             ]
            ],
            "type": "surface"
           }
          ],
          "table": [
           {
            "cells": {
             "fill": {
              "color": "#506784"
             },
             "line": {
              "color": "rgb(17,17,17)"
             }
            },
            "header": {
             "fill": {
              "color": "#2a3f5f"
             },
             "line": {
              "color": "rgb(17,17,17)"
             }
            },
            "type": "table"
           }
          ]
         },
         "layout": {
          "annotationdefaults": {
           "arrowcolor": "#f2f5fa",
           "arrowhead": 0,
           "arrowwidth": 1
          },
          "autotypenumbers": "strict",
          "coloraxis": {
           "colorbar": {
            "outlinewidth": 0,
            "ticks": ""
           }
          },
          "colorscale": {
           "diverging": [
            [
             0,
             "#8e0152"
            ],
            [
             0.1,
             "#c51b7d"
            ],
            [
             0.2,
             "#de77ae"
            ],
            [
             0.3,
             "#f1b6da"
            ],
            [
             0.4,
             "#fde0ef"
            ],
            [
             0.5,
             "#f7f7f7"
            ],
            [
             0.6,
             "#e6f5d0"
            ],
            [
             0.7,
             "#b8e186"
            ],
            [
             0.8,
             "#7fbc41"
            ],
            [
             0.9,
             "#4d9221"
            ],
            [
             1,
             "#276419"
            ]
           ],
           "sequential": [
            [
             0,
             "#0d0887"
            ],
            [
             0.1111111111111111,
             "#46039f"
            ],
            [
             0.2222222222222222,
             "#7201a8"
            ],
            [
             0.3333333333333333,
             "#9c179e"
            ],
            [
             0.4444444444444444,
             "#bd3786"
            ],
            [
             0.5555555555555556,
             "#d8576b"
            ],
            [
             0.6666666666666666,
             "#ed7953"
            ],
            [
             0.7777777777777778,
             "#fb9f3a"
            ],
            [
             0.8888888888888888,
             "#fdca26"
            ],
            [
             1,
             "#f0f921"
            ]
           ],
           "sequentialminus": [
            [
             0,
             "#0d0887"
            ],
            [
             0.1111111111111111,
             "#46039f"
            ],
            [
             0.2222222222222222,
             "#7201a8"
            ],
            [
             0.3333333333333333,
             "#9c179e"
            ],
            [
             0.4444444444444444,
             "#bd3786"
            ],
            [
             0.5555555555555556,
             "#d8576b"
            ],
            [
             0.6666666666666666,
             "#ed7953"
            ],
            [
             0.7777777777777778,
             "#fb9f3a"
            ],
            [
             0.8888888888888888,
             "#fdca26"
            ],
            [
             1,
             "#f0f921"
            ]
           ]
          },
          "colorway": [
           "#636efa",
           "#EF553B",
           "#00cc96",
           "#ab63fa",
           "#FFA15A",
           "#19d3f3",
           "#FF6692",
           "#B6E880",
           "#FF97FF",
           "#FECB52"
          ],
          "font": {
           "color": "#f2f5fa"
          },
          "geo": {
           "bgcolor": "rgb(17,17,17)",
           "lakecolor": "rgb(17,17,17)",
           "landcolor": "rgb(17,17,17)",
           "showlakes": true,
           "showland": true,
           "subunitcolor": "#506784"
          },
          "hoverlabel": {
           "align": "left"
          },
          "hovermode": "closest",
          "mapbox": {
           "style": "dark"
          },
          "paper_bgcolor": "rgb(17,17,17)",
          "plot_bgcolor": "rgb(17,17,17)",
          "polar": {
           "angularaxis": {
            "gridcolor": "#506784",
            "linecolor": "#506784",
            "ticks": ""
           },
           "bgcolor": "rgb(17,17,17)",
           "radialaxis": {
            "gridcolor": "#506784",
            "linecolor": "#506784",
            "ticks": ""
           }
          },
          "scene": {
           "xaxis": {
            "backgroundcolor": "rgb(17,17,17)",
            "gridcolor": "#506784",
            "gridwidth": 2,
            "linecolor": "#506784",
            "showbackground": true,
            "ticks": "",
            "zerolinecolor": "#C8D4E3"
           },
           "yaxis": {
            "backgroundcolor": "rgb(17,17,17)",
            "gridcolor": "#506784",
            "gridwidth": 2,
            "linecolor": "#506784",
            "showbackground": true,
            "ticks": "",
            "zerolinecolor": "#C8D4E3"
           },
           "zaxis": {
            "backgroundcolor": "rgb(17,17,17)",
            "gridcolor": "#506784",
            "gridwidth": 2,
            "linecolor": "#506784",
            "showbackground": true,
            "ticks": "",
            "zerolinecolor": "#C8D4E3"
           }
          },
          "shapedefaults": {
           "line": {
            "color": "#f2f5fa"
           }
          },
          "sliderdefaults": {
           "bgcolor": "#C8D4E3",
           "bordercolor": "rgb(17,17,17)",
           "borderwidth": 1,
           "tickwidth": 0
          },
          "ternary": {
           "aaxis": {
            "gridcolor": "#506784",
            "linecolor": "#506784",
            "ticks": ""
           },
           "baxis": {
            "gridcolor": "#506784",
            "linecolor": "#506784",
            "ticks": ""
           },
           "bgcolor": "rgb(17,17,17)",
           "caxis": {
            "gridcolor": "#506784",
            "linecolor": "#506784",
            "ticks": ""
           }
          },
          "title": {
           "x": 0.05
          },
          "updatemenudefaults": {
           "bgcolor": "#506784",
           "borderwidth": 0
          },
          "xaxis": {
           "automargin": true,
           "gridcolor": "#283442",
           "linecolor": "#506784",
           "ticks": "",
           "title": {
            "standoff": 15
           },
           "zerolinecolor": "#283442",
           "zerolinewidth": 2
          },
          "yaxis": {
           "automargin": true,
           "gridcolor": "#283442",
           "linecolor": "#506784",
           "ticks": "",
           "title": {
            "standoff": 15
           },
           "zerolinecolor": "#283442",
           "zerolinewidth": 2
          }
         }
        },
        "title": {
         "text": "Rank : 1 Mohamed Salah"
        }
       }
      }
     },
     "metadata": {},
     "output_type": "display_data"
    }
   ],
   "source": [
    "radars_figures['England'][0]"
   ]
  },
  {
   "cell_type": "code",
   "execution_count": 13,
   "metadata": {},
   "outputs": [],
   "source": [
    "app = dash.Dash(external_stylesheets=[dbc.themes.SOLAR])\n",
    "\n",
    "app.title = 'Player Ratings'\n",
    "app.layout = html.Div(\n",
    "    [\n",
    "    dbc.Row(\n",
    "        dbc.Col(html.H1(\"Player Rating Dashboard\", style={\"color\": \"#839496\", \"fontSize\": 65, \"textAlign\": \"center\", }), )),\n",
    "    dbc.Row(\n",
    "        [   dbc.Col(html.Div(children=[\n",
    "                    html.H1(children='Goals',style={'font-weight': 'bold', 'color':'#839496', 'textAlign':'Center'}),\n",
    "                    html.H2(id = 'goals_Area',style={'font-weight': 'bold','color':'White', 'textAlign':'Center'})], \n",
    "                    style={'backgroundColor':'#073642', 'border':'15px solid #073642', 'border-radius':'20px'}   \n",
    "                    , className='two columns'),),\n",
    "            dbc.Col(html.Div(children=[\n",
    "                    html.H1(children='Shots per Goal',style={'font-weight': 'bold', 'color':'#839496', 'textAlign':'Center'}),\n",
    "                    html.H2(id = 'shots_pg_Area',style={'font-weight': 'bold','color':'White', 'textAlign':'Center'})], \n",
    "                    style={'backgroundColor':'#073642', 'border':'15px solid #073642', 'border-radius':'20px'}   \n",
    "                    , className='two columns'),),\n",
    "            dbc.Col(html.Div(children=[\n",
    "                    html.H1(children='Goals per Match',style={'font-weight': 'bold', 'color':'#839496', 'textAlign':'Center'}),\n",
    "                    html.H2(id = 'goals_pm_Area',style={'font-weight': 'bold','color':'White', 'textAlign':'Center'})], \n",
    "                    style={'backgroundColor':'#073642', 'border':'15px solid #073642', 'border-radius':'20px'}   \n",
    "                    , className='two columns'),),\n",
    "            dbc.Col(html.Div(children=[\n",
    "                    html.H1(children='Fouls per Match',style={'font-weight': 'bold', 'color':'#839496', 'textAlign':'Center'}),\n",
    "                    html.H2(id = 'fouls_pm_Area',style={'font-weight': 'bold','color':'White', 'textAlign':'Center'})], \n",
    "                    style={'backgroundColor':'#073642', 'border':'15px solid #073642', 'border-radius':'20px'}   \n",
    "                    , className='two columns'),),\n",
    "        ],\n",
    "    ),\n",
    "    dbc.Row([dbc.Col(\n",
    "            dcc.Dropdown(\n",
    "                id='dropdown',\n",
    "                optionHeight=40,\n",
    "                placeholder='Choose Tournement',\n",
    "                options=[\n",
    "                    {'label': 'English Premier League', 'value': 1},\n",
    "                    {'label': 'French  Ligue 1', 'value': 2},\n",
    "                    {'label': 'Germany Bundesliga', 'value': 3},\n",
    "                    {'label': 'Italy Serie A', 'value': 4},\n",
    "                    {'label': 'Spanish la liga', 'value': 5},\n",
    "                    {'label': 'Euro Cup 2016', 'value': 6},\n",
    "                    {'label': 'World Cup 2018', 'value':  7}\n",
    "                ], value=1\n",
    "            ), ),\n",
    "    ]),\n",
    "    dbc.Row(dbc.Col([dcc.Graph(id=\"Bar_fig\")])),\n",
    "    dbc.Row([\n",
    "        dbc.Col([dcc.Graph(id=\"rank_1_fig\")]),\n",
    "        dbc.Col([dcc.Graph(id=\"rank_2_fig\")]),\n",
    "        dbc.Col([dcc.Graph(id=\"rank_3_fig\")]),\n",
    "    ]),\n",
    "]\n",
    ")\n",
    "@app.callback(\n",
    "    [Output('Bar_fig', 'figure'),\n",
    "    Output('rank_1_fig', 'figure'),\n",
    "    Output('rank_2_fig', 'figure'),\n",
    "    Output('rank_3_fig', 'figure'),\n",
    "    Output('goals_Area', 'children'),\n",
    "    Output('shots_pg_Area', 'children'),\n",
    "    Output('goals_pm_Area', 'children'),\n",
    "    Output('fouls_pm_Area', 'children')],\n",
    "    Input('dropdown', 'value'))\n",
    "def update(value):\n",
    "   \n",
    "    rank=bar_figures[competitions[0]]\n",
    "    rank_1=radars_figures[competitions[0]][0]\n",
    "    rank_2=radars_figures[competitions[0]][1]\n",
    "    rank_3=radars_figures[competitions[0]][2]\n",
    "    c1=total_goals[competitions[0]]\n",
    "    c2=shots_per_goal[competitions[0]]\n",
    "    c3=Average_goals_per_match[competitions[0]]\n",
    "    c4=Average_fouls_per_match[competitions[0]]\n",
    "    if value:\n",
    "            print(value)\n",
    "            value -= 1\n",
    "            rank=bar_figures[competitions[value]]\n",
    "            rank_1=radars_figures[competitions[value]][0]\n",
    "            rank_2=radars_figures[competitions[value]][1]\n",
    "            rank_3=radars_figures[competitions[value]][2]\n",
    "            c1=total_goals[competitions[value]]\n",
    "            c2=shots_per_goal[competitions[value]]\n",
    "            c3=Average_goals_per_match[competitions[value]]\n",
    "            c4=Average_fouls_per_match[competitions[value]]\n",
    "    \n",
    "    return [rank,rank_1,rank_2,rank_3,c1,c2,c3,c4]\n",
    "    "
   ]
  },
  {
   "cell_type": "code",
   "execution_count": 363,
   "metadata": {},
   "outputs": [],
   "source": [
    "# !pip install django_plotly_dash==1.1.4\n",
    "# !pip install –user channels\n",
    "# !pip install –user bootstrap4\n",
    "# !pip install django_plotly_dash==1.1.4\n",
    "# !pip install  dpd_static_support==0.0.5\n",
    "# !pip install dash_daq==0.3.1\n",
    "# !pip install whitenoise==5.0.1"
   ]
  },
  {
   "cell_type": "code",
   "execution_count": 14,
   "metadata": {
    "scrolled": true
   },
   "outputs": [
    {
     "name": "stdout",
     "output_type": "stream",
     "text": [
      "Dash is running on http://127.0.0.1:8050/\n",
      "\n",
      " * Serving Flask app '__main__' (lazy loading)\n",
      " * Environment: production\n",
      "\u001b[31m   WARNING: This is a development server. Do not use it in a production deployment.\u001b[0m\n",
      "\u001b[2m   Use a production WSGI server instead.\u001b[0m\n",
      " * Debug mode: off\n"
     ]
    },
    {
     "name": "stderr",
     "output_type": "stream",
     "text": [
      " * Running on http://127.0.0.1:8050/ (Press CTRL+C to quit)\n",
      "127.0.0.1 - - [13/Jan/2022 10:03:02] \"GET / HTTP/1.1\" 200 -\n",
      "127.0.0.1 - - [13/Jan/2022 10:03:03] \"GET /_dash-component-suites/dash_renderer/prop-types@15.v1_9_1m1641045456.7.2.min.js HTTP/1.1\" 200 -\n",
      "127.0.0.1 - - [13/Jan/2022 10:03:03] \"GET /_dash-component-suites/dash_renderer/react@16.v1_9_1m1641045456.14.0.min.js HTTP/1.1\" 200 -\n",
      "127.0.0.1 - - [13/Jan/2022 10:03:03] \"GET /_dash-component-suites/dash_renderer/polyfill@7.v1_9_1m1641045456.8.7.min.js HTTP/1.1\" 200 -\n",
      "127.0.0.1 - - [13/Jan/2022 10:03:03] \"GET /_dash-component-suites/dash_renderer/react-dom@16.v1_9_1m1641045456.14.0.min.js HTTP/1.1\" 200 -\n",
      "127.0.0.1 - - [13/Jan/2022 10:03:03] \"GET /_dash-component-suites/dash_core_components/dash_core_components-shared.v1_16_0m1641045459.js HTTP/1.1\" 200 -\n",
      "127.0.0.1 - - [13/Jan/2022 10:03:03] \"GET /_dash-component-suites/dash_core_components/dash_core_components.v1_16_0m1641045459.min.js HTTP/1.1\" 200 -\n",
      "127.0.0.1 - - [13/Jan/2022 10:03:03] \"GET /_dash-component-suites/dash_html_components/dash_html_components.v1_1_3m1641045457.min.js HTTP/1.1\" 200 -\n",
      "127.0.0.1 - - [13/Jan/2022 10:03:03] \"GET /_dash-component-suites/dash_bootstrap_components/_components/dash_bootstrap_components.v0_13_1m1641045463.min.js HTTP/1.1\" 200 -\n",
      "127.0.0.1 - - [13/Jan/2022 10:03:03] \"GET /_dash-component-suites/dash_renderer/dash_renderer.v1_9_1m1641045456.min.js HTTP/1.1\" 200 -\n",
      "127.0.0.1 - - [13/Jan/2022 10:03:05] \"GET /_dash-layout HTTP/1.1\" 200 -\n",
      "127.0.0.1 - - [13/Jan/2022 10:03:05] \"GET /_dash-dependencies HTTP/1.1\" 200 -\n",
      "127.0.0.1 - - [13/Jan/2022 10:03:05] \"GET /_dash-component-suites/dash_core_components/async-graph.v1_16_0m1617903285.js HTTP/1.1\" 200 -\n",
      "127.0.0.1 - - [13/Jan/2022 10:03:05] \"GET /_dash-component-suites/dash_core_components/async-dropdown.v1_16_0m1617903285.js HTTP/1.1\" 200 -\n",
      "127.0.0.1 - - [13/Jan/2022 10:03:06] \"POST /_dash-update-component HTTP/1.1\" 200 -\n"
     ]
    },
    {
     "name": "stdout",
     "output_type": "stream",
     "text": [
      "1\n"
     ]
    },
    {
     "name": "stderr",
     "output_type": "stream",
     "text": [
      "127.0.0.1 - - [13/Jan/2022 10:03:06] \"GET /_dash-component-suites/dash_core_components/async-plotlyjs.v1_16_0m1617903285.js HTTP/1.1\" 200 -\n",
      "127.0.0.1 - - [13/Jan/2022 10:03:07] \"GET /_favicon.ico?v=1.20.0 HTTP/1.1\" 200 -\n",
      "127.0.0.1 - - [13/Jan/2022 11:09:45] \"POST /_dash-update-component HTTP/1.1\" 200 -\n"
     ]
    },
    {
     "name": "stdout",
     "output_type": "stream",
     "text": [
      "5\n"
     ]
    }
   ],
   "source": [
    "app.run_server()"
   ]
  },
  {
   "cell_type": "code",
   "execution_count": null,
   "metadata": {},
   "outputs": [],
   "source": []
  }
 ],
 "metadata": {
  "kernelspec": {
   "display_name": "Python 3",
   "language": "python",
   "name": "python3"
  },
  "language_info": {
   "codemirror_mode": {
    "name": "ipython",
    "version": 3
   },
   "file_extension": ".py",
   "mimetype": "text/x-python",
   "name": "python",
   "nbconvert_exporter": "python",
   "pygments_lexer": "ipython3",
   "version": "3.7.12"
  },
  "toc": {
   "base_numbering": 1,
   "nav_menu": {},
   "number_sections": true,
   "sideBar": true,
   "skip_h1_title": false,
   "title_cell": "Table of Contents",
   "title_sidebar": "Contents",
   "toc_cell": false,
   "toc_position": {
    "height": "calc(100% - 180px)",
    "left": "10px",
    "top": "150px",
    "width": "498.594px"
   },
   "toc_section_display": true,
   "toc_window_display": true
  }
 },
 "nbformat": 4,
 "nbformat_minor": 4
}
